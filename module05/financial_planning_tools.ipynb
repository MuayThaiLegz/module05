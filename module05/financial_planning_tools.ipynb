{
 "cells": [
  {
   "cell_type": "markdown",
   "metadata": {},
   "source": [
    "# Financial Planning with APIs and Simulations\n",
    "\n",
    "In this Challenge, you’ll create two financial analysis tools by using a single Jupyter notebook:\n",
    "\n",
    "Part 1: A financial planner for emergencies. The members will be able to use this tool to visualize their current savings. The members can then determine if they have enough reserves for an emergency fund.\n",
    "\n",
    "Part 2: A financial planner for retirement. This tool will forecast the performance of their retirement portfolio in 30 years. To do this, the tool will make an Alpaca API call via the Alpaca SDK to get historical price data for use in Monte Carlo simulations.\n",
    "\n",
    "You’ll use the information from the Monte Carlo simulation to answer questions about the portfolio in your Jupyter notebook.\n",
    "\n"
   ]
  },
  {
   "cell_type": "code",
   "execution_count": 1,
   "metadata": {},
   "outputs": [],
   "source": [
    "# Import the required libraries and dependencies\n",
    "\n",
    "import os\n",
    "\n",
    "import requests\n",
    "\n",
    "import json\n",
    "\n",
    "import pandas as pd\n",
    "\n",
    "from dotenv import load_dotenv\n",
    "\n",
    "import alpaca_trade_api as tradeapi\n",
    "\n",
    "from MCForecastTools import MCSimulation\n",
    "\n",
    "import datetime\n",
    "\n",
    "%matplotlib inline\n"
   ]
  },
  {
   "cell_type": "code",
   "execution_count": 2,
   "metadata": {},
   "outputs": [
    {
     "name": "stderr",
     "output_type": "stream",
     "text": [
      "Python-dotenv could not parse statement starting at line 1\n"
     ]
    },
    {
     "data": {
      "text/plain": [
       "True"
      ]
     },
     "execution_count": 2,
     "metadata": {},
     "output_type": "execute_result"
    }
   ],
   "source": [
    "# Load the environment variables from the .env file\n",
    "#by calling the load_dotenv function\n",
    "\n",
    "load_dotenv()\n"
   ]
  },
  {
   "cell_type": "markdown",
   "metadata": {},
   "source": [
    "## Part 1: Create a Financial Planner for Emergencies"
   ]
  },
  {
   "cell_type": "markdown",
   "metadata": {},
   "source": [
    "### Evaluate the Cryptocurrency Wallet by Using the Requests Library\n",
    "\n",
    "In this section, you’ll determine the current value of a member’s cryptocurrency wallet. You’ll collect the current prices for the Bitcoin and Ethereum cryptocurrencies by using the Python Requests library. For the prototype, you’ll assume that the member holds the 1.2 Bitcoins (BTC) and 5.3 Ethereum coins (ETH). To do all this, complete the following steps:\n",
    "\n",
    "1. Create a variable named `monthly_income`, and set its value to `12000`.\n",
    "\n",
    "2. Use the Requests library to get the current price (in US dollars) of Bitcoin (BTC) and Ethereum (ETH) by using the API endpoints that the starter code supplies.\n",
    "\n",
    "3. Navigate the JSON response object to access the current price of each coin, and store each in a variable.\n",
    "\n",
    "    > **Hint** Note the specific identifier for each cryptocurrency in the API JSON response. The Bitcoin identifier is `1`, and the Ethereum identifier is `1027`.\n",
    "\n",
    "4. Calculate the value, in US dollars, of the current amount of each cryptocurrency and of the entire cryptocurrency wallet.\n",
    "\n"
   ]
  },
  {
   "cell_type": "code",
   "execution_count": 3,
   "metadata": {},
   "outputs": [],
   "source": [
    "# The current number of coins for each cryptocurrency asset held in the portfolio.\n",
    "\n",
    "btc_coins = 1.2\n",
    "\n",
    "eth_coins = 5.3\n"
   ]
  },
  {
   "cell_type": "markdown",
   "metadata": {},
   "source": [
    "#### Step 1: Create a variable named `monthly_income`, and set its value to `12000`."
   ]
  },
  {
   "cell_type": "code",
   "execution_count": 4,
   "metadata": {},
   "outputs": [],
   "source": [
    "# The monthly amount for the member's household income\n",
    "# YOUR CODE HERE\n",
    "\n",
    "monthly_income  = 12000\n"
   ]
  },
  {
   "cell_type": "markdown",
   "metadata": {},
   "source": [
    "#### Review the endpoint URLs for the API calls to Free Crypto API in order to get the current pricing information for both BTC and ETH."
   ]
  },
  {
   "cell_type": "code",
   "execution_count": 5,
   "metadata": {},
   "outputs": [],
   "source": [
    "# The Free Crypto API Call endpoint URLs for the held cryptocurrency assets\n",
    "\n",
    "btc_url = \"https://api.alternative.me/v2/ticker/Bitcoin/?convert=USD\"\n",
    "\n",
    "eth_url = \"https://api.alternative.me/v2/ticker/Ethereum/?convert=USD\"\n"
   ]
  },
  {
   "cell_type": "markdown",
   "metadata": {},
   "source": [
    "#### Step 2. Use the Requests library to get the current price (in US dollars) of Bitcoin (BTC) and Ethereum (ETH) by using the API endpoints that the starter code supplied."
   ]
  },
  {
   "cell_type": "code",
   "execution_count": 6,
   "metadata": {},
   "outputs": [
    {
     "name": "stdout",
     "output_type": "stream",
     "text": [
      "{\n",
      "        \"data\": {\n",
      "                \"1\": {\n",
      "                        \"circulating_supply\": 18618362,\n",
      "                        \"id\": 1,\n",
      "                        \"last_updated\": 1612377484,\n",
      "                        \"max_supply\": 21000000,\n",
      "                        \"name\": \"Bitcoin\",\n",
      "                        \"quotes\": {\n",
      "                                \"USD\": {\n",
      "                                        \"market_cap\": 688747431808,\n",
      "                                        \"percent_change_1h\": 0.0372739061724231,\n",
      "                                        \"percent_change_24h\": 6.09003681251477,\n",
      "                                        \"percent_change_7d\": 13.6461812543511,\n",
      "                                        \"percentage_change_1h\": 0.0372739061724231,\n",
      "                                        \"percentage_change_24h\": 6.09003681251477,\n",
      "                                        \"percentage_change_7d\": 13.6461812543511,\n",
      "                                        \"price\": 37028.0,\n",
      "                                        \"volume_24h\": 50240357548\n",
      "                                }\n",
      "                        },\n",
      "                        \"rank\": 1,\n",
      "                        \"symbol\": \"BTC\",\n",
      "                        \"total_supply\": 18618362,\n",
      "                        \"website_slug\": \"bitcoin\"\n",
      "                }\n",
      "        },\n",
      "        \"metadata\": {\n",
      "                \"error\": null,\n",
      "                \"num_cryptocurrencies\": 1372,\n",
      "                \"timestamp\": 1612377484\n",
      "        }\n",
      "}\n"
     ]
    }
   ],
   "source": [
    "# Using the Python requests library, make an API call to access the current price of BTC\n",
    "\n",
    "btc_response = requests.get(btc_url).json()\n",
    "\n",
    "# Use the json.dumps function to review the response data from the API call\n",
    "# Use the indent and sort_keys parameters to make the response object readable\n",
    "# YOUR CODE HERE\n",
    "\n",
    "print(json.dumps(btc_response, indent=8, sort_keys=True))\n"
   ]
  },
  {
   "cell_type": "code",
   "execution_count": 7,
   "metadata": {},
   "outputs": [
    {
     "name": "stdout",
     "output_type": "stream",
     "text": [
      "{\n",
      "        \"data\": {\n",
      "                \"1027\": {\n",
      "                        \"circulating_supply\": 114521841,\n",
      "                        \"id\": 1027,\n",
      "                        \"last_updated\": 1612377537,\n",
      "                        \"max_supply\": 0,\n",
      "                        \"name\": \"Ethereum\",\n",
      "                        \"quotes\": {\n",
      "                                \"USD\": {\n",
      "                                        \"market_cap\": 187392677777,\n",
      "                                        \"percent_change_1h\": 0.638047476947117,\n",
      "                                        \"percent_change_24h\": 10.6486370039471,\n",
      "                                        \"percent_change_7d\": 20.778100378237,\n",
      "                                        \"percentage_change_1h\": 0.638047476947117,\n",
      "                                        \"percentage_change_24h\": 10.6486370039471,\n",
      "                                        \"percentage_change_7d\": 20.778100378237,\n",
      "                                        \"price\": 1636.83,\n",
      "                                        \"volume_24h\": 43194743429\n",
      "                                }\n",
      "                        },\n",
      "                        \"rank\": 2,\n",
      "                        \"symbol\": \"ETH\",\n",
      "                        \"total_supply\": 114521841,\n",
      "                        \"website_slug\": \"ethereum\"\n",
      "                }\n",
      "        },\n",
      "        \"metadata\": {\n",
      "                \"error\": null,\n",
      "                \"num_cryptocurrencies\": 1372,\n",
      "                \"timestamp\": 1612377537\n",
      "        }\n",
      "}\n"
     ]
    }
   ],
   "source": [
    "# Using the Python requests library, make an API call to access the current price ETH\n",
    "\n",
    "eth_response = requests.get(eth_url).json()\n",
    "\n",
    "# YOUR CODE HERE\n",
    "\n",
    "# Use the json.dumps function to review the response data from the API call\n",
    "# Use the indent and sort_keys parameters to make the response object readable\n",
    "# YOUR CODE HERE\n",
    "print(json.dumps(eth_response, indent=8, sort_keys=True))\n"
   ]
  },
  {
   "cell_type": "markdown",
   "metadata": {},
   "source": [
    "#### Step 3: Navigate the JSON response object to access the current price of each coin, and store each in a variable."
   ]
  },
  {
   "cell_type": "code",
   "execution_count": 8,
   "metadata": {},
   "outputs": [
    {
     "name": "stdout",
     "output_type": "stream",
     "text": [
      "The price for Bitcoin is $37028.0\n"
     ]
    }
   ],
   "source": [
    "# Navigate the BTC response object to access the current price of BTC\n",
    "\n",
    "btc_price = btc_response['data']['1'][\"quotes\"][\"USD\"][\"price\"]\n",
    "\n",
    "# YOUR CODE HERE\n",
    "\n",
    "# Print the current price of BTC\n",
    "# YOUR CODE HERE\n",
    "print(f\"The price for Bitcoin is ${btc_price}\")\n"
   ]
  },
  {
   "cell_type": "code",
   "execution_count": 9,
   "metadata": {},
   "outputs": [
    {
     "name": "stdout",
     "output_type": "stream",
     "text": [
      "The price for Bitcoin is $1636.83\n"
     ]
    }
   ],
   "source": [
    "# Navigate the ETH response object to access the current price of ETH\n",
    "\n",
    "eth_price = eth_response['data']['1027'][\"quotes\"][\"USD\"][\"price\"]\n",
    "\n",
    "# Print the current price of ETH\n",
    "# YOUR CODE HERE\n",
    "print(f\"The price for Bitcoin is ${eth_price}\")\n"
   ]
  },
  {
   "cell_type": "markdown",
   "metadata": {},
   "source": [
    "### Step 4: Calculate the value, in US dollars, of the current amount of each cryptocurrency and of the entire cryptocurrency wallet."
   ]
  },
  {
   "cell_type": "code",
   "execution_count": 57,
   "metadata": {},
   "outputs": [],
   "source": [
    "# Establishing cryptocurrency holdings\n",
    "\n",
    "btc_coins = 0.25\n",
    "\n",
    "eth_coins = 5.3\n"
   ]
  },
  {
   "cell_type": "code",
   "execution_count": 11,
   "metadata": {},
   "outputs": [
    {
     "name": "stdout",
     "output_type": "stream",
     "text": [
      "The total value for your Bitcoin is $9257.00\n"
     ]
    }
   ],
   "source": [
    "# Compute the current value of the BTC holding\n",
    "\n",
    "btc_value = btc_price * btc_coins\n",
    "\n",
    "\n",
    "# Print current value of your holding in BTC\n",
    "\n",
    "print(f\"The total value for your Bitcoin is ${btc_value:.2f}\")\n"
   ]
  },
  {
   "cell_type": "code",
   "execution_count": 12,
   "metadata": {},
   "outputs": [
    {
     "name": "stdout",
     "output_type": "stream",
     "text": [
      "The total value for your Ethereum is $8675.20\n"
     ]
    }
   ],
   "source": [
    "# Compute the current value of the ETH holding \n",
    "\n",
    "eth_value = eth_price * eth_coins\n",
    "\n",
    "# Print current value of your holding in ETH\n",
    "# YOUR CODE HERE\n",
    "\n",
    "print(f\"The total value for your Ethereum is ${eth_value:.2f}\")\n"
   ]
  },
  {
   "cell_type": "code",
   "execution_count": 13,
   "metadata": {},
   "outputs": [
    {
     "data": {
      "text/plain": [
       "17932.199"
      ]
     },
     "execution_count": 13,
     "metadata": {},
     "output_type": "execute_result"
    }
   ],
   "source": [
    "# Compute the total value of the cryptocurrency wallet\n",
    "# Add the value of the BTC holding to the value of the ETH holding\n",
    "\n",
    "total_crypto_wallet = btc_value + eth_value\n",
    "\n",
    "\n",
    "total_crypto_wallet\n"
   ]
  },
  {
   "cell_type": "code",
   "execution_count": 14,
   "metadata": {},
   "outputs": [
    {
     "name": "stdout",
     "output_type": "stream",
     "text": [
      "The total value for your cryptocurrency wallet is $17932.20\n"
     ]
    }
   ],
   "source": [
    "# Print current cryptocurrency wallet balance\n",
    "# YOUR CODE HERE\n",
    "\n",
    "print(f\"The total value for your cryptocurrency wallet is ${total_crypto_wallet:.2f}\")\n"
   ]
  },
  {
   "cell_type": "markdown",
   "metadata": {},
   "source": [
    "### Evaluate the Stock and Bond Holdings by Using the Alpaca SDK\n",
    "\n",
    "In this section, you’ll determine the current value of a member’s stock and bond holdings. You’ll make an API call to Alpaca via the Alpaca SDK to get the current closing prices of the SPDR S&P 500 ETF Trust (ticker: SPY) and of the iShares Core US Aggregate Bond ETF (ticker: AGG). For the prototype, assume that the member holds 110 shares of SPY, which represents the stock portion of their portfolio, and 200 shares of AGG, which represents the bond portion. To do all this, complete the following steps:\n",
    "\n",
    "1. In the `Starter_Code` folder, create an environment file (`.env`) to store the values of your Alpaca API key and Alpaca secret key.\n",
    "\n",
    "2. Set the variables for the Alpaca API and secret keys. Using the Alpaca SDK, create the Alpaca `tradeapi.REST` object. In this object, include the parameters for the Alpaca API key, the secret key, and the version number.\n",
    "\n",
    "3. Set the following parameters for the Alpaca API call:\n",
    "\n",
    "    - `tickers`: Use the tickers for the member’s stock and bond holdings.\n",
    "\n",
    "    - `timeframe`: Use a time frame of one day.\n",
    "\n",
    "    - `start_date` and `end_date`: Use the same date for these parameters, and format them with the date of the previous weekday (or `2020-08-07`). This is because you want the one closing price for the most-recent trading day.\n",
    "\n",
    "4. Get the current closing prices for `SPY` and `AGG` by using the Alpaca `get_barset` function. Format the response as a Pandas DataFrame by including the `df` property at the end of the `get_barset` function.\n",
    "\n",
    "5. Navigating the Alpaca response DataFrame, select the `SPY` and `AGG` closing prices, and store them as variables.\n",
    "\n",
    "6. Calculate the value, in US dollars, of the current amount of shares in each of the stock and bond portions of the portfolio, and print the results.\n"
   ]
  },
  {
   "cell_type": "markdown",
   "metadata": {},
   "source": [
    "#### Review the total number of shares held in both (SPY) and (AGG)."
   ]
  },
  {
   "cell_type": "code",
   "execution_count": 15,
   "metadata": {},
   "outputs": [],
   "source": [
    "# Current amount of shares held in both the stock (SPY) and bond (AGG) portion of the portfolio.\n",
    "spy_shares = 110\n",
    "\n",
    "agg_shares = 200\n"
   ]
  },
  {
   "cell_type": "code",
   "execution_count": 58,
   "metadata": {},
   "outputs": [],
   "source": [
    "# Creating datime objects for todays date and one year from that date\n",
    "\n",
    "today_date = str(datetime.datetime.now()).split()[0]\n",
    "\n",
    "one_year_ago = str(datetime.datetime.now() - datetime.timedelta(days=1*365)).split()[0]\n"
   ]
  },
  {
   "cell_type": "markdown",
   "metadata": {},
   "source": [
    "#### Step 1: In the `Starter_Code` folder, create an environment file (`.env`) to store the values of your Alpaca API key and Alpaca secret key."
   ]
  },
  {
   "cell_type": "markdown",
   "metadata": {},
   "source": [
    "#### Step 2: Set the variables for the Alpaca API and secret keys. Using the Alpaca SDK, create the Alpaca `tradeapi.REST` object. In this object, include the parameters for the Alpaca API key, the secret key, and the version number."
   ]
  },
  {
   "cell_type": "code",
   "execution_count": 17,
   "metadata": {},
   "outputs": [],
   "source": [
    "# Set the variables for the Alpaca API and secret keys\n",
    "# YOUR CODE HERE\n",
    "# YOUR CODE HERE\n",
    "\n",
    "alpaca_api_key = os.getenv(\"ALPACA_API_KEY\")\n",
    "\n",
    "alpaca_secret_key = os.getenv(\"ALPACA_SECRET_KEY\")\n"
   ]
  },
  {
   "cell_type": "code",
   "execution_count": 18,
   "metadata": {},
   "outputs": [
    {
     "name": "stdout",
     "output_type": "stream",
     "text": [
      "Alpaca Key type: <class 'str'>\n",
      "Alpaca Secret Key type: <class 'str'>\n"
     ]
    }
   ],
   "source": [
    "# Printing API key type to confirm key upload\n",
    "\n",
    "print(f\"Alpaca Key type: {type(alpaca_api_key)}\")\n",
    "\n",
    "print(f\"Alpaca Secret Key type: {type(alpaca_secret_key)}\")\n"
   ]
  },
  {
   "cell_type": "code",
   "execution_count": 19,
   "metadata": {},
   "outputs": [],
   "source": [
    "# Create the Alpaca tradeapi.REST object\n",
    "# YOUR CODE HERE\n",
    "\n",
    "alpaca = tradeapi.REST(\n",
    "    alpaca_api_key,\n",
    "    alpaca_secret_key,\n",
    "    api_version=\"v2\"\n",
    ")\n"
   ]
  },
  {
   "cell_type": "markdown",
   "metadata": {},
   "source": [
    "#### Step 3: Set the following parameters for the Alpaca API call:\n",
    "\n",
    "- `tickers`: Use the tickers for the member’s stock and bond holdings.\n",
    "\n",
    "- `timeframe`: Use a time frame of one day.\n",
    "\n",
    "- `start_date` and `end_date`: Use the same date for these parameters, and format them with the date of the previous weekday (or `2020-08-07`). This is because you want the one closing price for the most-recent trading day.\n"
   ]
  },
  {
   "cell_type": "code",
   "execution_count": 20,
   "metadata": {},
   "outputs": [],
   "source": [
    "# Set the tickers for both the bond and stock portion of the portfolio\n",
    "# YOUR CODE HERE\n",
    "tickers = [\"SPY\",  \"AGG\"]\n",
    "# Set timeframe to 1D \n",
    "# YOUR CODE HERE\n",
    "timeframe = '1D'\n",
    "# Format current date as ISO format\n",
    "# Set both the start and end date at the date of your prior weekday \n",
    "# This will give you the closing price of the previous trading day\n",
    "# Alternatively you can use a start and end date of 2020-08-07\n",
    "# YOUR CODE HERE\n",
    "\n",
    "start_date = pd.Timestamp(one_year_ago , tz=\"America/New_York\").isoformat()\n",
    "end_date = pd.Timestamp(today_date, tz=\"America/New_York\").isoformat()"
   ]
  },
  {
   "cell_type": "code",
   "execution_count": 21,
   "metadata": {},
   "outputs": [
    {
     "data": {
      "text/plain": [
       "'2020-02-04T00:00:00-05:00'"
      ]
     },
     "execution_count": 21,
     "metadata": {},
     "output_type": "execute_result"
    }
   ],
   "source": [
    "# Start day set to prior weekday\n",
    "\n",
    "start_date\n"
   ]
  },
  {
   "cell_type": "code",
   "execution_count": 22,
   "metadata": {},
   "outputs": [
    {
     "data": {
      "text/plain": [
       "'2021-02-03T00:00:00-05:00'"
      ]
     },
     "execution_count": 22,
     "metadata": {},
     "output_type": "execute_result"
    }
   ],
   "source": [
    "# End day set to prior weekday\n",
    "\n",
    "end_date\n"
   ]
  },
  {
   "cell_type": "markdown",
   "metadata": {},
   "source": [
    "#### Step 4: Get the current closing prices for `SPY` and `AGG` by using the Alpaca `get_barset` function. Format the response as a Pandas DataFrame by including the `df` property at the end of the `get_barset` function."
   ]
  },
  {
   "cell_type": "code",
   "execution_count": 23,
   "metadata": {},
   "outputs": [
    {
     "data": {
      "text/html": [
       "<div>\n",
       "<style scoped>\n",
       "    .dataframe tbody tr th:only-of-type {\n",
       "        vertical-align: middle;\n",
       "    }\n",
       "\n",
       "    .dataframe tbody tr th {\n",
       "        vertical-align: top;\n",
       "    }\n",
       "\n",
       "    .dataframe thead tr th {\n",
       "        text-align: left;\n",
       "    }\n",
       "\n",
       "    .dataframe thead tr:last-of-type th {\n",
       "        text-align: right;\n",
       "    }\n",
       "</style>\n",
       "<table border=\"1\" class=\"dataframe\">\n",
       "  <thead>\n",
       "    <tr>\n",
       "      <th></th>\n",
       "      <th colspan=\"5\" halign=\"left\">AGG</th>\n",
       "      <th colspan=\"5\" halign=\"left\">SPY</th>\n",
       "    </tr>\n",
       "    <tr>\n",
       "      <th></th>\n",
       "      <th>open</th>\n",
       "      <th>high</th>\n",
       "      <th>low</th>\n",
       "      <th>close</th>\n",
       "      <th>volume</th>\n",
       "      <th>open</th>\n",
       "      <th>high</th>\n",
       "      <th>low</th>\n",
       "      <th>close</th>\n",
       "      <th>volume</th>\n",
       "    </tr>\n",
       "    <tr>\n",
       "      <th>time</th>\n",
       "      <th></th>\n",
       "      <th></th>\n",
       "      <th></th>\n",
       "      <th></th>\n",
       "      <th></th>\n",
       "      <th></th>\n",
       "      <th></th>\n",
       "      <th></th>\n",
       "      <th></th>\n",
       "      <th></th>\n",
       "    </tr>\n",
       "  </thead>\n",
       "  <tbody>\n",
       "    <tr>\n",
       "      <th>2020-02-04 00:00:00-05:00</th>\n",
       "      <td>114.10</td>\n",
       "      <td>114.10</td>\n",
       "      <td>113.8880</td>\n",
       "      <td>114.00</td>\n",
       "      <td>3260230</td>\n",
       "      <td>328.07</td>\n",
       "      <td>330.0100</td>\n",
       "      <td>327.72</td>\n",
       "      <td>329.08</td>\n",
       "      <td>52512833</td>\n",
       "    </tr>\n",
       "    <tr>\n",
       "      <th>2020-02-05 00:00:00-05:00</th>\n",
       "      <td>113.82</td>\n",
       "      <td>113.87</td>\n",
       "      <td>113.7601</td>\n",
       "      <td>113.79</td>\n",
       "      <td>4378692</td>\n",
       "      <td>332.27</td>\n",
       "      <td>333.0900</td>\n",
       "      <td>330.67</td>\n",
       "      <td>332.82</td>\n",
       "      <td>52702659</td>\n",
       "    </tr>\n",
       "    <tr>\n",
       "      <th>2020-02-06 00:00:00-05:00</th>\n",
       "      <td>113.82</td>\n",
       "      <td>113.93</td>\n",
       "      <td>113.7700</td>\n",
       "      <td>113.88</td>\n",
       "      <td>4489403</td>\n",
       "      <td>333.91</td>\n",
       "      <td>334.1900</td>\n",
       "      <td>332.80</td>\n",
       "      <td>333.96</td>\n",
       "      <td>42644695</td>\n",
       "    </tr>\n",
       "    <tr>\n",
       "      <th>2020-02-07 00:00:00-05:00</th>\n",
       "      <td>114.20</td>\n",
       "      <td>114.28</td>\n",
       "      <td>114.1000</td>\n",
       "      <td>114.22</td>\n",
       "      <td>3568443</td>\n",
       "      <td>332.82</td>\n",
       "      <td>333.9941</td>\n",
       "      <td>331.60</td>\n",
       "      <td>332.20</td>\n",
       "      <td>51735741</td>\n",
       "    </tr>\n",
       "    <tr>\n",
       "      <th>2020-02-10 00:00:00-05:00</th>\n",
       "      <td>114.44</td>\n",
       "      <td>114.44</td>\n",
       "      <td>114.2900</td>\n",
       "      <td>114.35</td>\n",
       "      <td>4161248</td>\n",
       "      <td>331.23</td>\n",
       "      <td>334.7200</td>\n",
       "      <td>331.19</td>\n",
       "      <td>334.69</td>\n",
       "      <td>34150738</td>\n",
       "    </tr>\n",
       "  </tbody>\n",
       "</table>\n",
       "</div>"
      ],
      "text/plain": [
       "                              AGG                                        SPY  \\\n",
       "                             open    high       low   close   volume    open   \n",
       "time                                                                           \n",
       "2020-02-04 00:00:00-05:00  114.10  114.10  113.8880  114.00  3260230  328.07   \n",
       "2020-02-05 00:00:00-05:00  113.82  113.87  113.7601  113.79  4378692  332.27   \n",
       "2020-02-06 00:00:00-05:00  113.82  113.93  113.7700  113.88  4489403  333.91   \n",
       "2020-02-07 00:00:00-05:00  114.20  114.28  114.1000  114.22  3568443  332.82   \n",
       "2020-02-10 00:00:00-05:00  114.44  114.44  114.2900  114.35  4161248  331.23   \n",
       "\n",
       "                                                               \n",
       "                               high     low   close    volume  \n",
       "time                                                           \n",
       "2020-02-04 00:00:00-05:00  330.0100  327.72  329.08  52512833  \n",
       "2020-02-05 00:00:00-05:00  333.0900  330.67  332.82  52702659  \n",
       "2020-02-06 00:00:00-05:00  334.1900  332.80  333.96  42644695  \n",
       "2020-02-07 00:00:00-05:00  333.9941  331.60  332.20  51735741  \n",
       "2020-02-10 00:00:00-05:00  334.7200  331.19  334.69  34150738  "
      ]
     },
     "execution_count": 23,
     "metadata": {},
     "output_type": "execute_result"
    }
   ],
   "source": [
    "# Use the Alpaca get_barset function to get current closing prices the portfolio\n",
    "# Be sure to set the `df` property after the function to format the response object as a DataFrame\n",
    "# YOUR CODE HERE\n",
    "\n",
    "portfolio_prices_df = alpaca.get_barset(\n",
    "    tickers,\n",
    "    timeframe,\n",
    "    start = start_date,\n",
    "    end = end_date\n",
    ").df\n",
    "\n",
    "# Review the resulting `portfolio_prices_df` DataFrame. \n",
    "\n",
    "portfolio_prices_df.head()\n"
   ]
  },
  {
   "cell_type": "markdown",
   "metadata": {},
   "source": [
    "#### Step 5: Navigating the Alpaca response DataFrame, select the `SPY` and `AGG` closing prices, and store them as variables."
   ]
  },
  {
   "cell_type": "code",
   "execution_count": 24,
   "metadata": {},
   "outputs": [],
   "source": [
    "# Be sure to set the values from the DataFrame to a float by calling the float function \n",
    "\n",
    "spy_price = (portfolio_prices_df[\"SPY\"][\"close\"])\n",
    "\n",
    "agg_price = (portfolio_prices_df[\"AGG\"][\"close\"])\n"
   ]
  },
  {
   "cell_type": "code",
   "execution_count": 25,
   "metadata": {},
   "outputs": [
    {
     "data": {
      "text/plain": [
       "pandas.core.series.Series"
      ]
     },
     "execution_count": 25,
     "metadata": {},
     "output_type": "execute_result"
    }
   ],
   "source": [
    "#Reviewing Object Type\n",
    "\n",
    "type(spy_price)\n"
   ]
  },
  {
   "cell_type": "code",
   "execution_count": 26,
   "metadata": {},
   "outputs": [
    {
     "data": {
      "text/plain": [
       "pandas.core.series.Series"
      ]
     },
     "execution_count": 26,
     "metadata": {},
     "output_type": "execute_result"
    }
   ],
   "source": [
    "#Reviewing Object Type\n",
    "\n",
    "type(agg_price)\n"
   ]
  },
  {
   "cell_type": "code",
   "execution_count": 27,
   "metadata": {},
   "outputs": [
    {
     "data": {
      "text/plain": [
       "time\n",
       "2020-02-04 00:00:00-05:00    114.00\n",
       "2020-02-05 00:00:00-05:00    113.79\n",
       "2020-02-06 00:00:00-05:00    113.88\n",
       "2020-02-07 00:00:00-05:00    114.22\n",
       "2020-02-10 00:00:00-05:00    114.35\n",
       "                              ...  \n",
       "2021-01-28 00:00:00-05:00    117.43\n",
       "2021-01-29 00:00:00-05:00    117.32\n",
       "2021-02-01 00:00:00-05:00    117.21\n",
       "2021-02-02 00:00:00-05:00    117.05\n",
       "2021-02-03 00:00:00-05:00    116.93\n",
       "Name: close, Length: 253, dtype: float64"
      ]
     },
     "metadata": {},
     "output_type": "display_data"
    }
   ],
   "source": [
    "# Reviewing series\n",
    "\n",
    "display(agg_price)\n"
   ]
  },
  {
   "cell_type": "code",
   "execution_count": 28,
   "metadata": {},
   "outputs": [
    {
     "data": {
      "text/plain": [
       "time\n",
       "2020-02-04 00:00:00-05:00    329.08\n",
       "2020-02-05 00:00:00-05:00    332.82\n",
       "2020-02-06 00:00:00-05:00    333.96\n",
       "2020-02-07 00:00:00-05:00    332.20\n",
       "2020-02-10 00:00:00-05:00    334.69\n",
       "                              ...  \n",
       "2021-01-28 00:00:00-05:00    377.60\n",
       "2021-01-29 00:00:00-05:00    370.19\n",
       "2021-02-01 00:00:00-05:00    376.18\n",
       "2021-02-02 00:00:00-05:00    381.54\n",
       "2021-02-03 00:00:00-05:00    383.27\n",
       "Name: close, Length: 253, dtype: float64"
      ]
     },
     "metadata": {},
     "output_type": "display_data"
    }
   ],
   "source": [
    "# Reviewing series\n",
    "\n",
    "display(spy_price)\n"
   ]
  },
  {
   "cell_type": "code",
   "execution_count": 29,
   "metadata": {},
   "outputs": [],
   "source": [
    "# Access the closing price for AGG from the Alpaca DataFrame\n",
    "# Converting the value to a floating point number\n",
    "\n",
    "agg_close_price = float(agg_price['2021-01-29'])\n"
   ]
  },
  {
   "cell_type": "code",
   "execution_count": 30,
   "metadata": {},
   "outputs": [
    {
     "data": {
      "text/plain": [
       "117.32"
      ]
     },
     "execution_count": 30,
     "metadata": {},
     "output_type": "execute_result"
    }
   ],
   "source": [
    "# Print the AGG closing price\n",
    "# YOUR CODE HERE\n",
    "\n",
    "agg_close_price\n"
   ]
  },
  {
   "cell_type": "code",
   "execution_count": 31,
   "metadata": {},
   "outputs": [
    {
     "data": {
      "text/plain": [
       "float"
      ]
     },
     "execution_count": 31,
     "metadata": {},
     "output_type": "execute_result"
    }
   ],
   "source": [
    "# Confirming value change\n",
    "\n",
    "type(agg_close_price)\n"
   ]
  },
  {
   "cell_type": "code",
   "execution_count": null,
   "metadata": {},
   "outputs": [],
   "source": []
  },
  {
   "cell_type": "code",
   "execution_count": 32,
   "metadata": {},
   "outputs": [],
   "source": [
    "# Access the closing price for SPY from the Alpaca DataFrame\n",
    "# Converting the value to a floating point number\n",
    "\n",
    "spy_close_price = float(spy_price['2021-01-29'])\n"
   ]
  },
  {
   "cell_type": "code",
   "execution_count": 33,
   "metadata": {},
   "outputs": [
    {
     "data": {
      "text/plain": [
       "370.19"
      ]
     },
     "execution_count": 33,
     "metadata": {},
     "output_type": "execute_result"
    }
   ],
   "source": [
    "# print the SPY closing price\n",
    "# YOUR CODE HERE\n",
    "\n",
    "spy_close_price\n"
   ]
  },
  {
   "cell_type": "code",
   "execution_count": 34,
   "metadata": {},
   "outputs": [
    {
     "data": {
      "text/plain": [
       "float"
      ]
     },
     "execution_count": 34,
     "metadata": {},
     "output_type": "execute_result"
    }
   ],
   "source": [
    "# confirming value change\n",
    "\n",
    "type(spy_close_price)\n"
   ]
  },
  {
   "cell_type": "code",
   "execution_count": 35,
   "metadata": {},
   "outputs": [],
   "source": [
    "# number of SPY shares\n",
    "\n",
    "spy_shares = 110\n"
   ]
  },
  {
   "cell_type": "code",
   "execution_count": 36,
   "metadata": {},
   "outputs": [],
   "source": [
    "# number of AGG shares\n",
    "\n",
    "\n",
    "agg_shares = 200\n"
   ]
  },
  {
   "cell_type": "markdown",
   "metadata": {},
   "source": [
    "#### Step 6: Calculate the value, in US dollars, of the current amount of shares in each of the stock and bond portions of the portfolio, and print the results."
   ]
  },
  {
   "cell_type": "code",
   "execution_count": 37,
   "metadata": {},
   "outputs": [
    {
     "name": "stdout",
     "output_type": "stream",
     "text": [
      "The current value of your bond portfolios $23464.00\n"
     ]
    }
   ],
   "source": [
    "# Calculate the current value of the bond portion of the portfolio\n",
    "agg_value = agg_shares * agg_close_price\n",
    "\n",
    "# Print the current value of the bond portfolio\n",
    "# YOUR CODE HERE\n",
    "\n",
    "print(f\"The current value of your bond portfolios ${agg_value:.2f}\")\n"
   ]
  },
  {
   "cell_type": "code",
   "execution_count": 38,
   "metadata": {},
   "outputs": [
    {
     "data": {
      "text/plain": [
       "40720.9"
      ]
     },
     "execution_count": 38,
     "metadata": {},
     "output_type": "execute_result"
    }
   ],
   "source": [
    "# Calculate the current value of the stock portion of the portfolio\n",
    "\n",
    "spy_value = spy_shares * spy_close_price\n",
    "\n",
    "spy_value\n"
   ]
  },
  {
   "cell_type": "code",
   "execution_count": 39,
   "metadata": {},
   "outputs": [
    {
     "name": "stdout",
     "output_type": "stream",
     "text": [
      "The current value of your stock portfolios $40720.90\n"
     ]
    }
   ],
   "source": [
    "# Print the current value of the stock portfolio\n",
    "# YOUR CODE HERE\n",
    "\n",
    "print(f\"The current value of your stock portfolios ${spy_value:.2f}\")\n"
   ]
  },
  {
   "cell_type": "code",
   "execution_count": 40,
   "metadata": {},
   "outputs": [
    {
     "data": {
      "text/plain": [
       "64184.9"
      ]
     },
     "execution_count": 40,
     "metadata": {},
     "output_type": "execute_result"
    }
   ],
   "source": [
    "# Calculate the total value of the stock and bond portion of the portfolio\n",
    "\n",
    "total_stocks_bonds = agg_value + spy_value\n",
    "\n",
    "total_stocks_bonds\n"
   ]
  },
  {
   "cell_type": "code",
   "execution_count": 41,
   "metadata": {},
   "outputs": [
    {
     "name": "stdout",
     "output_type": "stream",
     "text": [
      "The current value of your securities $64184.90\n"
     ]
    }
   ],
   "source": [
    "# Print the current balance of the stock and bond portion of the portfolio\n",
    "# YOUR CODE HERE\n",
    "\n",
    "print(f\"The current value of your securities ${total_stocks_bonds:.2f}\")\n"
   ]
  },
  {
   "cell_type": "code",
   "execution_count": 42,
   "metadata": {},
   "outputs": [
    {
     "data": {
      "text/plain": [
       "82117.099"
      ]
     },
     "execution_count": 42,
     "metadata": {},
     "output_type": "execute_result"
    }
   ],
   "source": [
    "# Calculate the total value of the member's entire savings portfolio\n",
    "# Add the value of the cryptocurrency walled to the value of the total stocks and bonds\n",
    "\n",
    "total_portfolio = total_stocks_bonds + total_crypto_wallet\n",
    "\n",
    "total_portfolio\n"
   ]
  },
  {
   "cell_type": "code",
   "execution_count": 43,
   "metadata": {},
   "outputs": [
    {
     "name": "stdout",
     "output_type": "stream",
     "text": [
      "The current value of your total detailed assests is  $82117.10\n"
     ]
    }
   ],
   "source": [
    "# Print current cryptocurrency wallet balance\n",
    "# YOUR CODE HERE\n",
    "\n",
    "print(f\"The current value of your total detailed assests is  ${total_portfolio:.2f}\")\n"
   ]
  },
  {
   "cell_type": "markdown",
   "metadata": {},
   "source": [
    "### Evaluate the Emergency Fund\n",
    "\n",
    "In this section, you’ll use the valuations for the cryptocurrency wallet and for the stock and bond portions of the portfolio to determine if the credit union member has enough savings to build an emergency fund into their financial plan. To do this, complete the following steps:\n",
    "\n",
    "1. Create a Python list named `savings_data` that has two elements. The first element contains the total value of the cryptocurrency wallet. The second element contains the total value of the stock and bond portions of the portfolio.\n",
    "\n",
    "2. Use the `savings_data` list to create a Pandas DataFrame named `savings_df`, and then display this DataFrame. The function to create the DataFrame should take the following three parameters:\n",
    "\n",
    "    - `savings_data`: Use the list that you just created.\n",
    "\n",
    "    - `columns`: Set this parameter equal to a Python list with a single value called `amount`.\n",
    "\n",
    "    - `index`: Set this parameter equal to a Python list with the values of `crypto` and `stock/bond`.\n",
    "\n",
    "3. Use the `savings_df` DataFrame to plot a pie chart that visualizes the composition of the member’s portfolio. The y-axis of the pie chart uses `amount`. Be sure to add a title.\n",
    "\n",
    "4. Using Python, determine if the current portfolio has enough to create an emergency fund as part of the member’s financial plan. Ideally, an emergency fund should equal to three times the member’s monthly income. To do this, implement the following steps:\n",
    "\n",
    "    1. Create a variable named `emergency_fund_value`, and set it equal to three times the value of the member’s `monthly_income` of $12000. (You set this earlier in Part 1).\n",
    "\n",
    "    2. Create a series of three if statements to determine if the member’s total portfolio is large enough to fund the emergency portfolio:\n",
    "\n",
    "        1. If the total portfolio value is greater than the emergency fund value, display a message congratulating the member for having enough money in this fund.\n",
    "\n",
    "        2. Else if the total portfolio value is equal to the emergency fund value, display a message congratulating the member on reaching this important financial goal.\n",
    "\n",
    "        3. Else the total portfolio is less than the emergency fund value, so display a message showing how many dollars away the member is from reaching the goal. (Subtract the total portfolio value from the emergency fund value.)\n"
   ]
  },
  {
   "cell_type": "markdown",
   "metadata": {},
   "source": [
    "#### Step 1: Create a Python list named `savings_data` that has two elements. The first element contains the total value of the cryptocurrency wallet. The second element contains the total value of the stock and bond portions of the portfolio."
   ]
  },
  {
   "cell_type": "code",
   "execution_count": 44,
   "metadata": {},
   "outputs": [
    {
     "data": {
      "text/plain": [
       "[17932.199, 64184.9]"
      ]
     },
     "execution_count": 44,
     "metadata": {},
     "output_type": "execute_result"
    }
   ],
   "source": [
    "# Consolidate financial assets data into a Python list\n",
    "# YOUR CODE HERE\n",
    "\n",
    "savings_data = [total_crypto_wallet , total_stocks_bonds]\n",
    "\n",
    "# Review the Python list savings_data\n",
    "# YOUR CODE HERE\n",
    "\n",
    "savings_data \n"
   ]
  },
  {
   "cell_type": "code",
   "execution_count": 45,
   "metadata": {},
   "outputs": [
    {
     "data": {
      "text/plain": [
       "list"
      ]
     },
     "execution_count": 45,
     "metadata": {},
     "output_type": "execute_result"
    }
   ],
   "source": [
    "# Reviewing new list object type\n",
    "\n",
    "type(savings_data)\n"
   ]
  },
  {
   "cell_type": "markdown",
   "metadata": {},
   "source": [
    "#### Step 2: Use the `savings_data` list to create a Pandas DataFrame named `savings_df`, and then display this DataFrame. The function to create the DataFrame should take the following three parameters:\n",
    "\n",
    "- `savings_data`: Use the list that you just created.\n",
    "\n",
    "- `columns`: Set this parameter equal to a Python list with a single value called `amount`.\n",
    "\n",
    "- `index`: Set this parameter equal to a Python list with the values of `crypto` and `stock/bond`.\n"
   ]
  },
  {
   "cell_type": "code",
   "execution_count": 46,
   "metadata": {},
   "outputs": [
    {
     "data": {
      "text/html": [
       "<div>\n",
       "<style scoped>\n",
       "    .dataframe tbody tr th:only-of-type {\n",
       "        vertical-align: middle;\n",
       "    }\n",
       "\n",
       "    .dataframe tbody tr th {\n",
       "        vertical-align: top;\n",
       "    }\n",
       "\n",
       "    .dataframe thead th {\n",
       "        text-align: right;\n",
       "    }\n",
       "</style>\n",
       "<table border=\"1\" class=\"dataframe\">\n",
       "  <thead>\n",
       "    <tr style=\"text-align: right;\">\n",
       "      <th></th>\n",
       "      <th>amount</th>\n",
       "    </tr>\n",
       "  </thead>\n",
       "  <tbody>\n",
       "    <tr>\n",
       "      <th>crypto</th>\n",
       "      <td>17932.199</td>\n",
       "    </tr>\n",
       "    <tr>\n",
       "      <th>stock/bond</th>\n",
       "      <td>64184.900</td>\n",
       "    </tr>\n",
       "  </tbody>\n",
       "</table>\n",
       "</div>"
      ],
      "text/plain": [
       "               amount\n",
       "crypto      17932.199\n",
       "stock/bond  64184.900"
      ]
     },
     "execution_count": 46,
     "metadata": {},
     "output_type": "execute_result"
    }
   ],
   "source": [
    "# Create a Pandas DataFrame called savings_df \n",
    "# YOUR CODE HERE\n",
    "\n",
    "savings_df = pd.DataFrame(savings_data, columns=['amount'], index=['crypto','stock/bond'])\n",
    "\n",
    "# Display the savings_df DataFrame\n",
    "# YOUR CODE HERE\n",
    "\n",
    "savings_df\n"
   ]
  },
  {
   "cell_type": "markdown",
   "metadata": {},
   "source": [
    "#### Step 3: Use the `savings_df` DataFrame to plot a pie chart that visualizes the composition of the member’s portfolio. The y-axis of the pie chart uses `amount`. Be sure to add a title."
   ]
  },
  {
   "cell_type": "code",
   "execution_count": 74,
   "metadata": {},
   "outputs": [
    {
     "data": {
      "text/plain": [
       "<AxesSubplot:title={'center':'Total value for (crypto and stock/bond)'}, ylabel='amount'>"
      ]
     },
     "execution_count": 74,
     "metadata": {},
     "output_type": "execute_result"
    },
    {
     "data": {
      "image/png": "[encoded data removed]",
      "text/plain": [
       "<Figure size 1152x576 with 1 Axes>"
      ]
     },
     "metadata": {},
     "output_type": "display_data"
    }
   ],
   "source": [
    "# Plot the total value of the member's portfolio (crypto and stock/bond) in a pie chart\n",
    "# YOUR CODE HERE\n",
    "\n",
    "savings_df.plot.pie(y ='amount', figsize=(16,8), title=('Total value for (crypto and stock/bond)'))\n"
   ]
  },
  {
   "cell_type": "markdown",
   "metadata": {},
   "source": [
    "#### Step 4: Using Python, determine if the current portfolio has enough to create an emergency fund as part of the member’s financial plan. Ideally, an emergency fund should equal to three times the member’s monthly income. To do this, implement the following steps:\n",
    "\n",
    "Step 1. Create a variable named `emergency_fund_value`, and set it equal to three times the value of the member’s `monthly_income` of 12000. (You set this earlier in Part 1).\n",
    "\n",
    "Step 2. Create a series of three if statements to determine if the member’s total portfolio is large enough to fund the emergency portfolio:\n",
    "\n",
    "* If the total portfolio value is greater than the emergency fund value, display a message congratulating the member for having enough money in this fund.\n",
    "\n",
    "* Else if the total portfolio value is equal to the emergency fund value, display a message congratulating the member on reaching this important financial goal.\n",
    "\n",
    "* Else the total portfolio is less than the emergency fund value, so display a message showing how many dollars away the member is from reaching the goal. (Subtract the total portfolio value from the emergency fund value.)\n"
   ]
  },
  {
   "cell_type": "markdown",
   "metadata": {},
   "source": [
    "##### Step 4-1: Create a variable named `emergency_fund_value`, and set it equal to three times the value of the member’s `monthly_income` of 12000. (You set this earlier in Part 1)."
   ]
  },
  {
   "cell_type": "code",
   "execution_count": 48,
   "metadata": {},
   "outputs": [],
   "source": [
    "# Create a variable named emergency_fund_value\n",
    "# YOUR CODE HERE\n",
    "\n",
    "emergency_fund_value = monthly_income * 5"
   ]
  },
  {
   "cell_type": "code",
   "execution_count": 49,
   "metadata": {},
   "outputs": [
    {
     "data": {
      "text/plain": [
       "60000"
      ]
     },
     "execution_count": 49,
     "metadata": {},
     "output_type": "execute_result"
    }
   ],
   "source": [
    "# Checking emergency_fund_value\n",
    "\n",
    "emergency_fund_value\n",
    "\n"
   ]
  },
  {
   "cell_type": "code",
   "execution_count": 50,
   "metadata": {},
   "outputs": [
    {
     "data": {
      "text/plain": [
       "-22117.099000000002"
      ]
     },
     "execution_count": 50,
     "metadata": {},
     "output_type": "execute_result"
    }
   ],
   "source": [
    "# Comparing values from If Statements\n",
    "\n",
    "emergency_fund_value - total_portfolio\n"
   ]
  },
  {
   "cell_type": "markdown",
   "metadata": {},
   "source": [
    "##### Step 4-2: Create a series of three if statements to determine if the member’s total portfolio is large enough to fund the emergency portfolio:\n",
    "\n",
    "* If the total portfolio value is greater than the emergency fund value, display a message congratulating the member for having enough money in this fund.\n",
    "\n",
    "* Else if the total portfolio value is equal to the emergency fund value, display a message congratulating the member on reaching this important financial goal.\n",
    "\n",
    "* Else the total portfolio is less than the emergency fund value, so display a message showing how many dollars away the member is from reaching the goal. (Subtract the total portfolio value from the emergency fund value.)"
   ]
  },
  {
   "cell_type": "code",
   "execution_count": 51,
   "metadata": {},
   "outputs": [
    {
     "name": "stdout",
     "output_type": "stream",
     "text": [
      " Congratulations you are well passed your set goal for your Emergency Fund. Way to Compound!. \n"
     ]
    }
   ],
   "source": [
    "# Evaluate the possibility of creating an emergency fund with 3 conditions:\n",
    "\n",
    "if total_portfolio > emergency_fund_value:\n",
    "    \n",
    "    print(\" Congratulations you are well passed your set goal for your Emergency Fund. Way to Compound!. \")\n",
    "\n",
    "elif total_portfolio == emergency_fund_value:\n",
    "    \n",
    "    print(\" Congratulations on reaching this important financial goal. \")\n",
    "    \n",
    "elif total_portfolio < emergency_fund_value:\n",
    "    \n",
    "        print(f\" We are ${emergency_fund_value:.2f} away from reaching your set goal for an Emergency Fund.\")\n",
    "        "
   ]
  },
  {
   "cell_type": "markdown",
   "metadata": {},
   "source": [
    "## Part 2: Create a Financial Planner for Retirement"
   ]
  },
  {
   "cell_type": "markdown",
   "metadata": {},
   "source": [
    "### Create the Monte Carlo Simulation\n",
    "\n",
    "In this section, you’ll use the MCForecastTools library to create a Monte Carlo simulation for the member’s savings portfolio. To do this, complete the following steps:\n",
    "\n",
    "1. Make an API call via the Alpaca SDK to get 10 years of historical closing prices for a traditional 60/40 portfolio split: 60% stocks (SPY) and 40% bonds (AGG).\n",
    "\n",
    "2. Run a Monte Carlo simulation of 500 samples and 30 years for the 60/40 portfolio, and then plot the results.The following image shows the overlay line plot resulting from a simulation with these characteristics. However, because a random number generator is used to run each live Monte Carlo simulation, your image will differ slightly from this exact image:\n",
    "\n",
    "![A screenshot depicts the resulting plot.](Images/5-4-monte-carlo-line-plot.png)\n",
    "\n",
    "3. Plot the probability distribution of the Monte Carlo simulation. Plot the probability distribution of the Monte Carlo simulation. The following image shows the histogram plot resulting from a simulation with these characteristics. However, because a random number generator is used to run each live Monte Carlo simulation, your image will differ slightly from this exact image:\n",
    "\n",
    "![A screenshot depicts the histogram plot.](Images/5-4-monte-carlo-histogram.png)\n",
    "\n",
    "4. Generate the summary statistics for the Monte Carlo simulation.\n",
    "\n"
   ]
  },
  {
   "cell_type": "markdown",
   "metadata": {},
   "source": [
    "#### Step 1: Make an API call via the Alpaca SDK to get 10 years of historical closing prices for a traditional 60/40 portfolio split: 60% stocks (SPY) and 40% bonds (AGG)."
   ]
  },
  {
   "cell_type": "code",
   "execution_count": 52,
   "metadata": {},
   "outputs": [
    {
     "data": {
      "text/plain": [
       "'2011-02-06'"
      ]
     },
     "execution_count": 52,
     "metadata": {},
     "output_type": "execute_result"
    }
   ],
   "source": [
    "# Creating variable for ten year window\n",
    "\n",
    "ten_year_hist = str(datetime.datetime.now() - datetime.timedelta(days=10*365)).split()[0]\n",
    "\n",
    "ten_year_hist\n"
   ]
  },
  {
   "cell_type": "code",
   "execution_count": 53,
   "metadata": {},
   "outputs": [],
   "source": [
    "# Set start and end dates of 10 years back from your current date\n",
    "# Alternatively, you can use an end date of 2020-08-07 and work 10 years back from that date \n",
    "# YOUR CODE HERE\n",
    "# YOUR CODE HERE"
   ]
  },
  {
   "cell_type": "code",
   "execution_count": 54,
   "metadata": {},
   "outputs": [
    {
     "data": {
      "text/plain": [
       "'2011-02-06T00:00:00-05:00'"
      ]
     },
     "execution_count": 54,
     "metadata": {},
     "output_type": "execute_result"
    }
   ],
   "source": [
    "# Confirming the start of our API call\n",
    "\n",
    "ten_year_hist_time = pd.Timestamp(ten_year_hist , tz=\"America/New_York\").isoformat()\n",
    "\n",
    "ten_year_hist_time\n"
   ]
  },
  {
   "cell_type": "code",
   "execution_count": 55,
   "metadata": {},
   "outputs": [
    {
     "data": {
      "text/plain": [
       "'2021-02-03T00:00:00-05:00'"
      ]
     },
     "execution_count": 55,
     "metadata": {},
     "output_type": "execute_result"
    }
   ],
   "source": [
    "# Confirming the end of our API call\n",
    "\n",
    "\n",
    "end_date_ten_year = pd.Timestamp(today_date, tz=\"America/New_York\").isoformat()\n",
    "\n",
    "end_date_ten_year\n"
   ]
  },
  {
   "cell_type": "code",
   "execution_count": null,
   "metadata": {},
   "outputs": [],
   "source": []
  },
  {
   "cell_type": "code",
   "execution_count": 76,
   "metadata": {},
   "outputs": [
    {
     "data": {
      "text/html": [
       "<div>\n",
       "<style scoped>\n",
       "    .dataframe tbody tr th:only-of-type {\n",
       "        vertical-align: middle;\n",
       "    }\n",
       "\n",
       "    .dataframe tbody tr th {\n",
       "        vertical-align: top;\n",
       "    }\n",
       "\n",
       "    .dataframe thead tr th {\n",
       "        text-align: left;\n",
       "    }\n",
       "\n",
       "    .dataframe thead tr:last-of-type th {\n",
       "        text-align: right;\n",
       "    }\n",
       "</style>\n",
       "<table border=\"1\" class=\"dataframe\">\n",
       "  <thead>\n",
       "    <tr>\n",
       "      <th></th>\n",
       "      <th colspan=\"5\" halign=\"left\">AGG</th>\n",
       "      <th colspan=\"5\" halign=\"left\">SPY</th>\n",
       "    </tr>\n",
       "    <tr>\n",
       "      <th></th>\n",
       "      <th>open</th>\n",
       "      <th>high</th>\n",
       "      <th>low</th>\n",
       "      <th>close</th>\n",
       "      <th>volume</th>\n",
       "      <th>open</th>\n",
       "      <th>high</th>\n",
       "      <th>low</th>\n",
       "      <th>close</th>\n",
       "      <th>volume</th>\n",
       "    </tr>\n",
       "    <tr>\n",
       "      <th>time</th>\n",
       "      <th></th>\n",
       "      <th></th>\n",
       "      <th></th>\n",
       "      <th></th>\n",
       "      <th></th>\n",
       "      <th></th>\n",
       "      <th></th>\n",
       "      <th></th>\n",
       "      <th></th>\n",
       "      <th></th>\n",
       "    </tr>\n",
       "  </thead>\n",
       "  <tbody>\n",
       "    <tr>\n",
       "      <th>2011-02-07 00:00:00-05:00</th>\n",
       "      <td>104.17</td>\n",
       "      <td>104.331</td>\n",
       "      <td>104.1100</td>\n",
       "      <td>104.29</td>\n",
       "      <td>569006.0</td>\n",
       "      <td>131.44</td>\n",
       "      <td>132.40</td>\n",
       "      <td>131.43</td>\n",
       "      <td>131.98</td>\n",
       "      <td>90480160</td>\n",
       "    </tr>\n",
       "    <tr>\n",
       "      <th>2011-02-08 00:00:00-05:00</th>\n",
       "      <td>104.31</td>\n",
       "      <td>104.320</td>\n",
       "      <td>103.9100</td>\n",
       "      <td>103.99</td>\n",
       "      <td>692756.0</td>\n",
       "      <td>132.10</td>\n",
       "      <td>132.64</td>\n",
       "      <td>131.73</td>\n",
       "      <td>132.59</td>\n",
       "      <td>85774423</td>\n",
       "    </tr>\n",
       "    <tr>\n",
       "      <th>2011-02-09 00:00:00-05:00</th>\n",
       "      <td>104.04</td>\n",
       "      <td>104.320</td>\n",
       "      <td>103.9301</td>\n",
       "      <td>104.19</td>\n",
       "      <td>484644.0</td>\n",
       "      <td>132.21</td>\n",
       "      <td>132.63</td>\n",
       "      <td>131.61</td>\n",
       "      <td>132.27</td>\n",
       "      <td>121763230</td>\n",
       "    </tr>\n",
       "    <tr>\n",
       "      <th>2011-02-10 00:00:00-05:00</th>\n",
       "      <td>104.11</td>\n",
       "      <td>104.170</td>\n",
       "      <td>103.8500</td>\n",
       "      <td>103.89</td>\n",
       "      <td>485735.0</td>\n",
       "      <td>131.60</td>\n",
       "      <td>132.47</td>\n",
       "      <td>131.30</td>\n",
       "      <td>132.33</td>\n",
       "      <td>140547328</td>\n",
       "    </tr>\n",
       "    <tr>\n",
       "      <th>2011-02-11 00:00:00-05:00</th>\n",
       "      <td>104.31</td>\n",
       "      <td>104.360</td>\n",
       "      <td>104.0700</td>\n",
       "      <td>104.30</td>\n",
       "      <td>746362.0</td>\n",
       "      <td>131.80</td>\n",
       "      <td>133.28</td>\n",
       "      <td>131.77</td>\n",
       "      <td>133.11</td>\n",
       "      <td>113377378</td>\n",
       "    </tr>\n",
       "  </tbody>\n",
       "</table>\n",
       "</div>"
      ],
      "text/plain": [
       "                              AGG                                       \\\n",
       "                             open     high       low   close    volume   \n",
       "time                                                                     \n",
       "2011-02-07 00:00:00-05:00  104.17  104.331  104.1100  104.29  569006.0   \n",
       "2011-02-08 00:00:00-05:00  104.31  104.320  103.9100  103.99  692756.0   \n",
       "2011-02-09 00:00:00-05:00  104.04  104.320  103.9301  104.19  484644.0   \n",
       "2011-02-10 00:00:00-05:00  104.11  104.170  103.8500  103.89  485735.0   \n",
       "2011-02-11 00:00:00-05:00  104.31  104.360  104.0700  104.30  746362.0   \n",
       "\n",
       "                              SPY                                     \n",
       "                             open    high     low   close     volume  \n",
       "time                                                                  \n",
       "2011-02-07 00:00:00-05:00  131.44  132.40  131.43  131.98   90480160  \n",
       "2011-02-08 00:00:00-05:00  132.10  132.64  131.73  132.59   85774423  \n",
       "2011-02-09 00:00:00-05:00  132.21  132.63  131.61  132.27  121763230  \n",
       "2011-02-10 00:00:00-05:00  131.60  132.47  131.30  132.33  140547328  \n",
       "2011-02-11 00:00:00-05:00  131.80  133.28  131.77  133.11  113377378  "
      ]
     },
     "metadata": {},
     "output_type": "display_data"
    },
    {
     "data": {
      "text/html": [
       "<div>\n",
       "<style scoped>\n",
       "    .dataframe tbody tr th:only-of-type {\n",
       "        vertical-align: middle;\n",
       "    }\n",
       "\n",
       "    .dataframe tbody tr th {\n",
       "        vertical-align: top;\n",
       "    }\n",
       "\n",
       "    .dataframe thead tr th {\n",
       "        text-align: left;\n",
       "    }\n",
       "\n",
       "    .dataframe thead tr:last-of-type th {\n",
       "        text-align: right;\n",
       "    }\n",
       "</style>\n",
       "<table border=\"1\" class=\"dataframe\">\n",
       "  <thead>\n",
       "    <tr>\n",
       "      <th></th>\n",
       "      <th colspan=\"5\" halign=\"left\">AGG</th>\n",
       "      <th colspan=\"5\" halign=\"left\">SPY</th>\n",
       "    </tr>\n",
       "    <tr>\n",
       "      <th></th>\n",
       "      <th>open</th>\n",
       "      <th>high</th>\n",
       "      <th>low</th>\n",
       "      <th>close</th>\n",
       "      <th>volume</th>\n",
       "      <th>open</th>\n",
       "      <th>high</th>\n",
       "      <th>low</th>\n",
       "      <th>close</th>\n",
       "      <th>volume</th>\n",
       "    </tr>\n",
       "    <tr>\n",
       "      <th>time</th>\n",
       "      <th></th>\n",
       "      <th></th>\n",
       "      <th></th>\n",
       "      <th></th>\n",
       "      <th></th>\n",
       "      <th></th>\n",
       "      <th></th>\n",
       "      <th></th>\n",
       "      <th></th>\n",
       "      <th></th>\n",
       "    </tr>\n",
       "  </thead>\n",
       "  <tbody>\n",
       "    <tr>\n",
       "      <th>2021-01-28 00:00:00-05:00</th>\n",
       "      <td>117.4800</td>\n",
       "      <td>117.49</td>\n",
       "      <td>117.2900</td>\n",
       "      <td>117.43</td>\n",
       "      <td>4440895.0</td>\n",
       "      <td>376.360</td>\n",
       "      <td>381.930</td>\n",
       "      <td>375.8900</td>\n",
       "      <td>377.6000</td>\n",
       "      <td>75229306</td>\n",
       "    </tr>\n",
       "    <tr>\n",
       "      <th>2021-01-29 00:00:00-05:00</th>\n",
       "      <td>117.1563</td>\n",
       "      <td>117.40</td>\n",
       "      <td>116.5625</td>\n",
       "      <td>117.32</td>\n",
       "      <td>7119889.0</td>\n",
       "      <td>375.630</td>\n",
       "      <td>376.670</td>\n",
       "      <td>368.2700</td>\n",
       "      <td>370.1900</td>\n",
       "      <td>106397082</td>\n",
       "    </tr>\n",
       "    <tr>\n",
       "      <th>2021-02-01 00:00:00-05:00</th>\n",
       "      <td>117.2000</td>\n",
       "      <td>117.26</td>\n",
       "      <td>117.0915</td>\n",
       "      <td>117.21</td>\n",
       "      <td>5469814.0</td>\n",
       "      <td>373.720</td>\n",
       "      <td>377.340</td>\n",
       "      <td>370.3760</td>\n",
       "      <td>376.1800</td>\n",
       "      <td>64056510</td>\n",
       "    </tr>\n",
       "    <tr>\n",
       "      <th>2021-02-02 00:00:00-05:00</th>\n",
       "      <td>116.9900</td>\n",
       "      <td>117.09</td>\n",
       "      <td>116.9700</td>\n",
       "      <td>117.05</td>\n",
       "      <td>4694446.0</td>\n",
       "      <td>379.650</td>\n",
       "      <td>383.220</td>\n",
       "      <td>376.3181</td>\n",
       "      <td>381.5400</td>\n",
       "      <td>53979346</td>\n",
       "    </tr>\n",
       "    <tr>\n",
       "      <th>2021-02-03 00:00:00-05:00</th>\n",
       "      <td>116.9700</td>\n",
       "      <td>116.99</td>\n",
       "      <td>116.8700</td>\n",
       "      <td>116.93</td>\n",
       "      <td>3482726.0</td>\n",
       "      <td>382.435</td>\n",
       "      <td>383.365</td>\n",
       "      <td>380.4800</td>\n",
       "      <td>383.3098</td>\n",
       "      <td>26779218</td>\n",
       "    </tr>\n",
       "  </tbody>\n",
       "</table>\n",
       "</div>"
      ],
      "text/plain": [
       "                                AGG                                       \\\n",
       "                               open    high       low   close     volume   \n",
       "time                                                                       \n",
       "2021-01-28 00:00:00-05:00  117.4800  117.49  117.2900  117.43  4440895.0   \n",
       "2021-01-29 00:00:00-05:00  117.1563  117.40  116.5625  117.32  7119889.0   \n",
       "2021-02-01 00:00:00-05:00  117.2000  117.26  117.0915  117.21  5469814.0   \n",
       "2021-02-02 00:00:00-05:00  116.9900  117.09  116.9700  117.05  4694446.0   \n",
       "2021-02-03 00:00:00-05:00  116.9700  116.99  116.8700  116.93  3482726.0   \n",
       "\n",
       "                               SPY                                          \n",
       "                              open     high       low     close     volume  \n",
       "time                                                                        \n",
       "2021-01-28 00:00:00-05:00  376.360  381.930  375.8900  377.6000   75229306  \n",
       "2021-01-29 00:00:00-05:00  375.630  376.670  368.2700  370.1900  106397082  \n",
       "2021-02-01 00:00:00-05:00  373.720  377.340  370.3760  376.1800   64056510  \n",
       "2021-02-02 00:00:00-05:00  379.650  383.220  376.3181  381.5400   53979346  \n",
       "2021-02-03 00:00:00-05:00  382.435  383.365  380.4800  383.3098   26779218  "
      ]
     },
     "metadata": {},
     "output_type": "display_data"
    }
   ],
   "source": [
    "# Use the Alpaca get_barset function to make the API call to get the 10 years worth of pricing data\n",
    "# The tickers and timeframe parameters should have been set in Part 1 of this activity \n",
    "# The start and end dates should be updated with the information set above\n",
    "# Remember to add the df property to the end of the call so the response is returned as a DataFrame\n",
    "# YOUR CODE HERE\n",
    "\n",
    "tenyear_prices_df = alpaca.get_barset(\n",
    "    tickers,\n",
    "    timeframe,\n",
    "    start = ten_year_hist_time,\n",
    "    end = end_date_ten_year\n",
    ").df\n",
    "\n",
    "\n",
    "\n",
    "# Display both the first and last five rows of the DataFrame\n",
    "# YOUR CODE HERE\n",
    "# YOUR CODE HERE\n",
    "\n",
    "display(tenyear_prices_df.head())\n",
    "\n",
    "display(tenyear_prices_df.tail())\n"
   ]
  },
  {
   "cell_type": "markdown",
   "metadata": {},
   "source": [
    "#### Step 2: Run a Monte Carlo simulation of 500 samples and 30 years for the 60/40 portfolio, and then plot the results."
   ]
  },
  {
   "cell_type": "code",
   "execution_count": 78,
   "metadata": {},
   "outputs": [
    {
     "data": {
      "text/html": [
       "<div>\n",
       "<style scoped>\n",
       "    .dataframe tbody tr th:only-of-type {\n",
       "        vertical-align: middle;\n",
       "    }\n",
       "\n",
       "    .dataframe tbody tr th {\n",
       "        vertical-align: top;\n",
       "    }\n",
       "\n",
       "    .dataframe thead tr th {\n",
       "        text-align: left;\n",
       "    }\n",
       "\n",
       "    .dataframe thead tr:last-of-type th {\n",
       "        text-align: right;\n",
       "    }\n",
       "</style>\n",
       "<table border=\"1\" class=\"dataframe\">\n",
       "  <thead>\n",
       "    <tr>\n",
       "      <th></th>\n",
       "      <th colspan=\"6\" halign=\"left\">AGG</th>\n",
       "      <th colspan=\"6\" halign=\"left\">SPY</th>\n",
       "    </tr>\n",
       "    <tr>\n",
       "      <th></th>\n",
       "      <th>open</th>\n",
       "      <th>high</th>\n",
       "      <th>low</th>\n",
       "      <th>close</th>\n",
       "      <th>volume</th>\n",
       "      <th>daily_return</th>\n",
       "      <th>open</th>\n",
       "      <th>high</th>\n",
       "      <th>low</th>\n",
       "      <th>close</th>\n",
       "      <th>volume</th>\n",
       "      <th>daily_return</th>\n",
       "    </tr>\n",
       "    <tr>\n",
       "      <th>time</th>\n",
       "      <th></th>\n",
       "      <th></th>\n",
       "      <th></th>\n",
       "      <th></th>\n",
       "      <th></th>\n",
       "      <th></th>\n",
       "      <th></th>\n",
       "      <th></th>\n",
       "      <th></th>\n",
       "      <th></th>\n",
       "      <th></th>\n",
       "      <th></th>\n",
       "    </tr>\n",
       "  </thead>\n",
       "  <tbody>\n",
       "    <tr>\n",
       "      <th>2011-02-07 00:00:00-05:00</th>\n",
       "      <td>104.17</td>\n",
       "      <td>104.331</td>\n",
       "      <td>104.1100</td>\n",
       "      <td>104.29</td>\n",
       "      <td>569006.0</td>\n",
       "      <td>NaN</td>\n",
       "      <td>131.44</td>\n",
       "      <td>132.40</td>\n",
       "      <td>131.43</td>\n",
       "      <td>131.98</td>\n",
       "      <td>90480160</td>\n",
       "      <td>NaN</td>\n",
       "    </tr>\n",
       "    <tr>\n",
       "      <th>2011-02-08 00:00:00-05:00</th>\n",
       "      <td>104.31</td>\n",
       "      <td>104.320</td>\n",
       "      <td>103.9100</td>\n",
       "      <td>103.99</td>\n",
       "      <td>692756.0</td>\n",
       "      <td>-0.002877</td>\n",
       "      <td>132.10</td>\n",
       "      <td>132.64</td>\n",
       "      <td>131.73</td>\n",
       "      <td>132.59</td>\n",
       "      <td>85774423</td>\n",
       "      <td>0.004622</td>\n",
       "    </tr>\n",
       "    <tr>\n",
       "      <th>2011-02-09 00:00:00-05:00</th>\n",
       "      <td>104.04</td>\n",
       "      <td>104.320</td>\n",
       "      <td>103.9301</td>\n",
       "      <td>104.19</td>\n",
       "      <td>484644.0</td>\n",
       "      <td>0.001923</td>\n",
       "      <td>132.21</td>\n",
       "      <td>132.63</td>\n",
       "      <td>131.61</td>\n",
       "      <td>132.27</td>\n",
       "      <td>121763230</td>\n",
       "      <td>-0.002413</td>\n",
       "    </tr>\n",
       "    <tr>\n",
       "      <th>2011-02-10 00:00:00-05:00</th>\n",
       "      <td>104.11</td>\n",
       "      <td>104.170</td>\n",
       "      <td>103.8500</td>\n",
       "      <td>103.89</td>\n",
       "      <td>485735.0</td>\n",
       "      <td>-0.002879</td>\n",
       "      <td>131.60</td>\n",
       "      <td>132.47</td>\n",
       "      <td>131.30</td>\n",
       "      <td>132.33</td>\n",
       "      <td>140547328</td>\n",
       "      <td>0.000454</td>\n",
       "    </tr>\n",
       "    <tr>\n",
       "      <th>2011-02-11 00:00:00-05:00</th>\n",
       "      <td>104.31</td>\n",
       "      <td>104.360</td>\n",
       "      <td>104.0700</td>\n",
       "      <td>104.30</td>\n",
       "      <td>746362.0</td>\n",
       "      <td>0.003946</td>\n",
       "      <td>131.80</td>\n",
       "      <td>133.28</td>\n",
       "      <td>131.77</td>\n",
       "      <td>133.11</td>\n",
       "      <td>113377378</td>\n",
       "      <td>0.005894</td>\n",
       "    </tr>\n",
       "  </tbody>\n",
       "</table>\n",
       "</div>"
      ],
      "text/plain": [
       "                              AGG                                       \\\n",
       "                             open     high       low   close    volume   \n",
       "time                                                                     \n",
       "2011-02-07 00:00:00-05:00  104.17  104.331  104.1100  104.29  569006.0   \n",
       "2011-02-08 00:00:00-05:00  104.31  104.320  103.9100  103.99  692756.0   \n",
       "2011-02-09 00:00:00-05:00  104.04  104.320  103.9301  104.19  484644.0   \n",
       "2011-02-10 00:00:00-05:00  104.11  104.170  103.8500  103.89  485735.0   \n",
       "2011-02-11 00:00:00-05:00  104.31  104.360  104.0700  104.30  746362.0   \n",
       "\n",
       "                                           SPY                          \\\n",
       "                          daily_return    open    high     low   close   \n",
       "time                                                                     \n",
       "2011-02-07 00:00:00-05:00          NaN  131.44  132.40  131.43  131.98   \n",
       "2011-02-08 00:00:00-05:00    -0.002877  132.10  132.64  131.73  132.59   \n",
       "2011-02-09 00:00:00-05:00     0.001923  132.21  132.63  131.61  132.27   \n",
       "2011-02-10 00:00:00-05:00    -0.002879  131.60  132.47  131.30  132.33   \n",
       "2011-02-11 00:00:00-05:00     0.003946  131.80  133.28  131.77  133.11   \n",
       "\n",
       "                                                   \n",
       "                              volume daily_return  \n",
       "time                                               \n",
       "2011-02-07 00:00:00-05:00   90480160          NaN  \n",
       "2011-02-08 00:00:00-05:00   85774423     0.004622  \n",
       "2011-02-09 00:00:00-05:00  121763230    -0.002413  \n",
       "2011-02-10 00:00:00-05:00  140547328     0.000454  \n",
       "2011-02-11 00:00:00-05:00  113377378     0.005894  "
      ]
     },
     "execution_count": 78,
     "metadata": {},
     "output_type": "execute_result"
    }
   ],
   "source": [
    "# Configure the Monte Carlo simulation to forecast 30 years cumulative returns\n",
    "# The weights should be split 40% to AGG and 60% to SPY.\n",
    "# Run 500 samples.\n",
    "# YOUR CODE HERE\n",
    "\n",
    "# Create a simulation object\n",
    "\n",
    "third_year_simulation = MCSimulation(\n",
    "    portfolio_data=tenyear_prices_df,\n",
    "    weights=[0.40, 0.60],\n",
    "    num_simulation=500,\n",
    "    num_trading_days=252 * 30,\n",
    ")\n",
    "\n",
    "\n",
    "# Review the simulation input data\n",
    "# YOUR CODE HERE\n",
    "third_year_simulation.portfolio_data.head()\n"
   ]
  },
  {
   "cell_type": "code",
   "execution_count": 79,
   "metadata": {},
   "outputs": [
    {
     "name": "stdout",
     "output_type": "stream",
     "text": [
      "Running Monte Carlo simulation number 0.\n",
      "Running Monte Carlo simulation number 10.\n",
      "Running Monte Carlo simulation number 20.\n",
      "Running Monte Carlo simulation number 30.\n",
      "Running Monte Carlo simulation number 40.\n",
      "Running Monte Carlo simulation number 50.\n",
      "Running Monte Carlo simulation number 60.\n",
      "Running Monte Carlo simulation number 70.\n",
      "Running Monte Carlo simulation number 80.\n",
      "Running Monte Carlo simulation number 90.\n",
      "Running Monte Carlo simulation number 100.\n",
      "Running Monte Carlo simulation number 110.\n",
      "Running Monte Carlo simulation number 120.\n",
      "Running Monte Carlo simulation number 130.\n",
      "Running Monte Carlo simulation number 140.\n",
      "Running Monte Carlo simulation number 150.\n",
      "Running Monte Carlo simulation number 160.\n",
      "Running Monte Carlo simulation number 170.\n",
      "Running Monte Carlo simulation number 180.\n",
      "Running Monte Carlo simulation number 190.\n",
      "Running Monte Carlo simulation number 200.\n",
      "Running Monte Carlo simulation number 210.\n",
      "Running Monte Carlo simulation number 220.\n",
      "Running Monte Carlo simulation number 230.\n",
      "Running Monte Carlo simulation number 240.\n",
      "Running Monte Carlo simulation number 250.\n",
      "Running Monte Carlo simulation number 260.\n",
      "Running Monte Carlo simulation number 270.\n",
      "Running Monte Carlo simulation number 280.\n",
      "Running Monte Carlo simulation number 290.\n",
      "Running Monte Carlo simulation number 300.\n",
      "Running Monte Carlo simulation number 310.\n",
      "Running Monte Carlo simulation number 320.\n",
      "Running Monte Carlo simulation number 330.\n",
      "Running Monte Carlo simulation number 340.\n",
      "Running Monte Carlo simulation number 350.\n",
      "Running Monte Carlo simulation number 360.\n",
      "Running Monte Carlo simulation number 370.\n",
      "Running Monte Carlo simulation number 380.\n",
      "Running Monte Carlo simulation number 390.\n",
      "Running Monte Carlo simulation number 400.\n",
      "Running Monte Carlo simulation number 410.\n",
      "Running Monte Carlo simulation number 420.\n",
      "Running Monte Carlo simulation number 430.\n",
      "Running Monte Carlo simulation number 440.\n",
      "Running Monte Carlo simulation number 450.\n",
      "Running Monte Carlo simulation number 460.\n",
      "Running Monte Carlo simulation number 470.\n",
      "Running Monte Carlo simulation number 480.\n",
      "Running Monte Carlo simulation number 490.\n"
     ]
    },
    {
     "data": {
      "text/html": [
       "<div>\n",
       "<style scoped>\n",
       "    .dataframe tbody tr th:only-of-type {\n",
       "        vertical-align: middle;\n",
       "    }\n",
       "\n",
       "    .dataframe tbody tr th {\n",
       "        vertical-align: top;\n",
       "    }\n",
       "\n",
       "    .dataframe thead th {\n",
       "        text-align: right;\n",
       "    }\n",
       "</style>\n",
       "<table border=\"1\" class=\"dataframe\">\n",
       "  <thead>\n",
       "    <tr style=\"text-align: right;\">\n",
       "      <th></th>\n",
       "      <th>0</th>\n",
       "      <th>1</th>\n",
       "      <th>2</th>\n",
       "      <th>3</th>\n",
       "      <th>4</th>\n",
       "      <th>5</th>\n",
       "      <th>6</th>\n",
       "      <th>7</th>\n",
       "      <th>8</th>\n",
       "      <th>9</th>\n",
       "      <th>...</th>\n",
       "      <th>490</th>\n",
       "      <th>491</th>\n",
       "      <th>492</th>\n",
       "      <th>493</th>\n",
       "      <th>494</th>\n",
       "      <th>495</th>\n",
       "      <th>496</th>\n",
       "      <th>497</th>\n",
       "      <th>498</th>\n",
       "      <th>499</th>\n",
       "    </tr>\n",
       "  </thead>\n",
       "  <tbody>\n",
       "    <tr>\n",
       "      <th>0</th>\n",
       "      <td>1.000000</td>\n",
       "      <td>1.000000</td>\n",
       "      <td>1.000000</td>\n",
       "      <td>1.000000</td>\n",
       "      <td>1.000000</td>\n",
       "      <td>1.000000</td>\n",
       "      <td>1.000000</td>\n",
       "      <td>1.000000</td>\n",
       "      <td>1.000000</td>\n",
       "      <td>1.000000</td>\n",
       "      <td>...</td>\n",
       "      <td>1.000000</td>\n",
       "      <td>1.000000</td>\n",
       "      <td>1.000000</td>\n",
       "      <td>1.000000</td>\n",
       "      <td>1.000000</td>\n",
       "      <td>1.000000</td>\n",
       "      <td>1.000000</td>\n",
       "      <td>1.000000</td>\n",
       "      <td>1.000000</td>\n",
       "      <td>1.000000</td>\n",
       "    </tr>\n",
       "    <tr>\n",
       "      <th>1</th>\n",
       "      <td>0.998273</td>\n",
       "      <td>1.003270</td>\n",
       "      <td>0.999067</td>\n",
       "      <td>0.990002</td>\n",
       "      <td>0.991816</td>\n",
       "      <td>0.996047</td>\n",
       "      <td>1.004635</td>\n",
       "      <td>0.999567</td>\n",
       "      <td>1.003509</td>\n",
       "      <td>0.998238</td>\n",
       "      <td>...</td>\n",
       "      <td>1.005801</td>\n",
       "      <td>1.000671</td>\n",
       "      <td>1.013062</td>\n",
       "      <td>1.002318</td>\n",
       "      <td>0.993961</td>\n",
       "      <td>0.996834</td>\n",
       "      <td>0.999561</td>\n",
       "      <td>1.003187</td>\n",
       "      <td>0.999924</td>\n",
       "      <td>1.007584</td>\n",
       "    </tr>\n",
       "    <tr>\n",
       "      <th>2</th>\n",
       "      <td>1.001851</td>\n",
       "      <td>1.005351</td>\n",
       "      <td>1.002018</td>\n",
       "      <td>0.992017</td>\n",
       "      <td>0.995705</td>\n",
       "      <td>0.995662</td>\n",
       "      <td>1.005025</td>\n",
       "      <td>1.002060</td>\n",
       "      <td>0.999591</td>\n",
       "      <td>0.993498</td>\n",
       "      <td>...</td>\n",
       "      <td>1.009507</td>\n",
       "      <td>1.002894</td>\n",
       "      <td>1.002086</td>\n",
       "      <td>1.000717</td>\n",
       "      <td>0.995516</td>\n",
       "      <td>1.002236</td>\n",
       "      <td>1.003973</td>\n",
       "      <td>1.007761</td>\n",
       "      <td>0.994996</td>\n",
       "      <td>1.007966</td>\n",
       "    </tr>\n",
       "    <tr>\n",
       "      <th>3</th>\n",
       "      <td>1.006609</td>\n",
       "      <td>1.002600</td>\n",
       "      <td>1.013436</td>\n",
       "      <td>0.996378</td>\n",
       "      <td>0.994093</td>\n",
       "      <td>1.000448</td>\n",
       "      <td>0.998353</td>\n",
       "      <td>0.996076</td>\n",
       "      <td>0.994655</td>\n",
       "      <td>0.992428</td>\n",
       "      <td>...</td>\n",
       "      <td>1.011526</td>\n",
       "      <td>0.996609</td>\n",
       "      <td>1.000074</td>\n",
       "      <td>1.010622</td>\n",
       "      <td>0.996889</td>\n",
       "      <td>0.989923</td>\n",
       "      <td>1.002346</td>\n",
       "      <td>1.007799</td>\n",
       "      <td>0.997400</td>\n",
       "      <td>0.986207</td>\n",
       "    </tr>\n",
       "    <tr>\n",
       "      <th>4</th>\n",
       "      <td>1.001794</td>\n",
       "      <td>0.995362</td>\n",
       "      <td>1.018613</td>\n",
       "      <td>1.007416</td>\n",
       "      <td>0.995363</td>\n",
       "      <td>0.997564</td>\n",
       "      <td>0.994382</td>\n",
       "      <td>1.001832</td>\n",
       "      <td>0.984288</td>\n",
       "      <td>0.994546</td>\n",
       "      <td>...</td>\n",
       "      <td>1.004632</td>\n",
       "      <td>1.005505</td>\n",
       "      <td>1.011101</td>\n",
       "      <td>1.020717</td>\n",
       "      <td>0.995734</td>\n",
       "      <td>0.995878</td>\n",
       "      <td>1.003498</td>\n",
       "      <td>1.001603</td>\n",
       "      <td>1.004748</td>\n",
       "      <td>0.993868</td>\n",
       "    </tr>\n",
       "    <tr>\n",
       "      <th>...</th>\n",
       "      <td>...</td>\n",
       "      <td>...</td>\n",
       "      <td>...</td>\n",
       "      <td>...</td>\n",
       "      <td>...</td>\n",
       "      <td>...</td>\n",
       "      <td>...</td>\n",
       "      <td>...</td>\n",
       "      <td>...</td>\n",
       "      <td>...</td>\n",
       "      <td>...</td>\n",
       "      <td>...</td>\n",
       "      <td>...</td>\n",
       "      <td>...</td>\n",
       "      <td>...</td>\n",
       "      <td>...</td>\n",
       "      <td>...</td>\n",
       "      <td>...</td>\n",
       "      <td>...</td>\n",
       "      <td>...</td>\n",
       "      <td>...</td>\n",
       "    </tr>\n",
       "    <tr>\n",
       "      <th>7556</th>\n",
       "      <td>12.445383</td>\n",
       "      <td>18.428199</td>\n",
       "      <td>13.030478</td>\n",
       "      <td>8.563210</td>\n",
       "      <td>29.383470</td>\n",
       "      <td>7.764250</td>\n",
       "      <td>7.351240</td>\n",
       "      <td>9.297030</td>\n",
       "      <td>5.858677</td>\n",
       "      <td>3.643807</td>\n",
       "      <td>...</td>\n",
       "      <td>10.048427</td>\n",
       "      <td>8.051203</td>\n",
       "      <td>4.706285</td>\n",
       "      <td>12.293045</td>\n",
       "      <td>15.449610</td>\n",
       "      <td>6.503947</td>\n",
       "      <td>3.052154</td>\n",
       "      <td>7.540516</td>\n",
       "      <td>9.764262</td>\n",
       "      <td>9.937313</td>\n",
       "    </tr>\n",
       "    <tr>\n",
       "      <th>7557</th>\n",
       "      <td>12.440454</td>\n",
       "      <td>18.542457</td>\n",
       "      <td>12.944280</td>\n",
       "      <td>8.549182</td>\n",
       "      <td>29.466111</td>\n",
       "      <td>7.850771</td>\n",
       "      <td>7.373953</td>\n",
       "      <td>9.306190</td>\n",
       "      <td>5.831818</td>\n",
       "      <td>3.650359</td>\n",
       "      <td>...</td>\n",
       "      <td>10.113962</td>\n",
       "      <td>8.065921</td>\n",
       "      <td>4.737351</td>\n",
       "      <td>12.227443</td>\n",
       "      <td>15.447593</td>\n",
       "      <td>6.498998</td>\n",
       "      <td>3.044858</td>\n",
       "      <td>7.583955</td>\n",
       "      <td>9.790783</td>\n",
       "      <td>9.873839</td>\n",
       "    </tr>\n",
       "    <tr>\n",
       "      <th>7558</th>\n",
       "      <td>12.385463</td>\n",
       "      <td>18.554295</td>\n",
       "      <td>12.910364</td>\n",
       "      <td>8.484580</td>\n",
       "      <td>29.663491</td>\n",
       "      <td>7.895738</td>\n",
       "      <td>7.435357</td>\n",
       "      <td>9.199690</td>\n",
       "      <td>5.881498</td>\n",
       "      <td>3.651051</td>\n",
       "      <td>...</td>\n",
       "      <td>10.217552</td>\n",
       "      <td>8.178330</td>\n",
       "      <td>4.752297</td>\n",
       "      <td>12.339320</td>\n",
       "      <td>15.421143</td>\n",
       "      <td>6.464281</td>\n",
       "      <td>3.097043</td>\n",
       "      <td>7.576797</td>\n",
       "      <td>9.767571</td>\n",
       "      <td>9.830958</td>\n",
       "    </tr>\n",
       "    <tr>\n",
       "      <th>7559</th>\n",
       "      <td>12.559351</td>\n",
       "      <td>18.695928</td>\n",
       "      <td>12.882570</td>\n",
       "      <td>8.466437</td>\n",
       "      <td>29.658872</td>\n",
       "      <td>7.905533</td>\n",
       "      <td>7.355712</td>\n",
       "      <td>9.199630</td>\n",
       "      <td>5.816882</td>\n",
       "      <td>3.616104</td>\n",
       "      <td>...</td>\n",
       "      <td>10.251999</td>\n",
       "      <td>8.243498</td>\n",
       "      <td>4.698746</td>\n",
       "      <td>12.421356</td>\n",
       "      <td>15.325912</td>\n",
       "      <td>6.468248</td>\n",
       "      <td>3.091446</td>\n",
       "      <td>7.573457</td>\n",
       "      <td>9.813340</td>\n",
       "      <td>9.798749</td>\n",
       "    </tr>\n",
       "    <tr>\n",
       "      <th>7560</th>\n",
       "      <td>12.456590</td>\n",
       "      <td>18.859671</td>\n",
       "      <td>12.972311</td>\n",
       "      <td>8.487627</td>\n",
       "      <td>29.547625</td>\n",
       "      <td>7.806523</td>\n",
       "      <td>7.309050</td>\n",
       "      <td>9.081582</td>\n",
       "      <td>5.791337</td>\n",
       "      <td>3.629134</td>\n",
       "      <td>...</td>\n",
       "      <td>10.358719</td>\n",
       "      <td>8.252179</td>\n",
       "      <td>4.710420</td>\n",
       "      <td>12.384022</td>\n",
       "      <td>15.409689</td>\n",
       "      <td>6.508988</td>\n",
       "      <td>3.097488</td>\n",
       "      <td>7.561725</td>\n",
       "      <td>9.819397</td>\n",
       "      <td>9.830941</td>\n",
       "    </tr>\n",
       "  </tbody>\n",
       "</table>\n",
       "<p>7561 rows × 500 columns</p>\n",
       "</div>"
      ],
      "text/plain": [
       "            0          1          2         3          4         5    \\\n",
       "0      1.000000   1.000000   1.000000  1.000000   1.000000  1.000000   \n",
       "1      0.998273   1.003270   0.999067  0.990002   0.991816  0.996047   \n",
       "2      1.001851   1.005351   1.002018  0.992017   0.995705  0.995662   \n",
       "3      1.006609   1.002600   1.013436  0.996378   0.994093  1.000448   \n",
       "4      1.001794   0.995362   1.018613  1.007416   0.995363  0.997564   \n",
       "...         ...        ...        ...       ...        ...       ...   \n",
       "7556  12.445383  18.428199  13.030478  8.563210  29.383470  7.764250   \n",
       "7557  12.440454  18.542457  12.944280  8.549182  29.466111  7.850771   \n",
       "7558  12.385463  18.554295  12.910364  8.484580  29.663491  7.895738   \n",
       "7559  12.559351  18.695928  12.882570  8.466437  29.658872  7.905533   \n",
       "7560  12.456590  18.859671  12.972311  8.487627  29.547625  7.806523   \n",
       "\n",
       "           6         7         8         9    ...        490       491  \\\n",
       "0     1.000000  1.000000  1.000000  1.000000  ...   1.000000  1.000000   \n",
       "1     1.004635  0.999567  1.003509  0.998238  ...   1.005801  1.000671   \n",
       "2     1.005025  1.002060  0.999591  0.993498  ...   1.009507  1.002894   \n",
       "3     0.998353  0.996076  0.994655  0.992428  ...   1.011526  0.996609   \n",
       "4     0.994382  1.001832  0.984288  0.994546  ...   1.004632  1.005505   \n",
       "...        ...       ...       ...       ...  ...        ...       ...   \n",
       "7556  7.351240  9.297030  5.858677  3.643807  ...  10.048427  8.051203   \n",
       "7557  7.373953  9.306190  5.831818  3.650359  ...  10.113962  8.065921   \n",
       "7558  7.435357  9.199690  5.881498  3.651051  ...  10.217552  8.178330   \n",
       "7559  7.355712  9.199630  5.816882  3.616104  ...  10.251999  8.243498   \n",
       "7560  7.309050  9.081582  5.791337  3.629134  ...  10.358719  8.252179   \n",
       "\n",
       "           492        493        494       495       496       497       498  \\\n",
       "0     1.000000   1.000000   1.000000  1.000000  1.000000  1.000000  1.000000   \n",
       "1     1.013062   1.002318   0.993961  0.996834  0.999561  1.003187  0.999924   \n",
       "2     1.002086   1.000717   0.995516  1.002236  1.003973  1.007761  0.994996   \n",
       "3     1.000074   1.010622   0.996889  0.989923  1.002346  1.007799  0.997400   \n",
       "4     1.011101   1.020717   0.995734  0.995878  1.003498  1.001603  1.004748   \n",
       "...        ...        ...        ...       ...       ...       ...       ...   \n",
       "7556  4.706285  12.293045  15.449610  6.503947  3.052154  7.540516  9.764262   \n",
       "7557  4.737351  12.227443  15.447593  6.498998  3.044858  7.583955  9.790783   \n",
       "7558  4.752297  12.339320  15.421143  6.464281  3.097043  7.576797  9.767571   \n",
       "7559  4.698746  12.421356  15.325912  6.468248  3.091446  7.573457  9.813340   \n",
       "7560  4.710420  12.384022  15.409689  6.508988  3.097488  7.561725  9.819397   \n",
       "\n",
       "           499  \n",
       "0     1.000000  \n",
       "1     1.007584  \n",
       "2     1.007966  \n",
       "3     0.986207  \n",
       "4     0.993868  \n",
       "...        ...  \n",
       "7556  9.937313  \n",
       "7557  9.873839  \n",
       "7558  9.830958  \n",
       "7559  9.798749  \n",
       "7560  9.830941  \n",
       "\n",
       "[7561 rows x 500 columns]"
      ]
     },
     "execution_count": 79,
     "metadata": {},
     "output_type": "execute_result"
    }
   ],
   "source": [
    "# Run the Monte Carlo simulation to forecast 30 years cumulative returns\n",
    "# YOUR CODE HERE\n",
    "\n",
    "third_year_simulation.calc_cumulative_return()\n"
   ]
  },
  {
   "cell_type": "code",
   "execution_count": 82,
   "metadata": {},
   "outputs": [
    {
     "data": {
      "text/plain": [
       "<AxesSubplot:title={'center':'500 Simulations of Cumulative Portfolio Return Trajectories Over the Next 7560 Trading Days.'}>"
      ]
     },
     "execution_count": 82,
     "metadata": {},
     "output_type": "execute_result"
    },
    {
     "data": {
      "image/png": "[encoded data removed]",
      "text/plain": [
       "<Figure size 432x288 with 1 Axes>"
      ]
     },
     "metadata": {
      "needs_background": "light"
     },
     "output_type": "display_data"
    }
   ],
   "source": [
    "# Visualize the 30-year Monte Carlo simulation by creating an\n",
    "# overlay line plot\n",
    "# YOUR CODE HERE\n",
    "\n",
    "third_year_simulation.plot_simulation()\n"
   ]
  },
  {
   "cell_type": "markdown",
   "metadata": {},
   "source": [
    "#### Step 3: Plot the probability distribution of the Monte Carlo simulation."
   ]
  },
  {
   "cell_type": "code",
   "execution_count": 83,
   "metadata": {},
   "outputs": [
    {
     "data": {
      "text/plain": [
       "<AxesSubplot:title={'center':'Distribution of Final Cumuluative Returns Across All 500 Simulations'}, ylabel='Frequency'>"
      ]
     },
     "execution_count": 83,
     "metadata": {},
     "output_type": "execute_result"
    },
    {
     "data": {
      "image/png": "[encoded data removed]",
      "text/plain": [
       "<Figure size 432x288 with 1 Axes>"
      ]
     },
     "metadata": {
      "needs_background": "light"
     },
     "output_type": "display_data"
    }
   ],
   "source": [
    "# Visualize the probability distribution of the 30-year Monte Carlo simulation \n",
    "# by plotting a histogram\n",
    "# YOUR CODE HERE\n",
    "\n",
    "third_year_simulation.plot_distribution()\n"
   ]
  },
  {
   "cell_type": "code",
   "execution_count": null,
   "metadata": {},
   "outputs": [],
   "source": []
  },
  {
   "cell_type": "markdown",
   "metadata": {},
   "source": [
    "#### Step 4: Generate the summary statistics for the Monte Carlo simulation."
   ]
  },
  {
   "cell_type": "code",
   "execution_count": 84,
   "metadata": {},
   "outputs": [
    {
     "name": "stdout",
     "output_type": "stream",
     "text": [
      "count           500.000000\n",
      "mean             10.158699\n",
      "std               6.482557\n",
      "min               1.441202\n",
      "25%               5.799162\n",
      "50%               8.490918\n",
      "75%              12.531762\n",
      "max              47.517022\n",
      "95% CI Lower      2.765669\n",
      "95% CI Upper     28.358699\n",
      "Name: 7560, dtype: float64\n"
     ]
    }
   ],
   "source": [
    "# Generate summary statistics from the 30-year Monte Carlo simulation results\n",
    "# Save the results as a variable\n",
    "# YOUR CODE HERE\n",
    "\n",
    "work_stats = third_year_simulation.summarize_cumulative_return()\n",
    "\n",
    "# Review the 30-year Monte Carlo summary statistics\n",
    "# YOUR CODE HERE\n",
    "\n",
    "print(work_stats)\n"
   ]
  },
  {
   "cell_type": "markdown",
   "metadata": {},
   "source": [
    "### Analyze the Retirement Portfolio Forecasts\n",
    "\n",
    "Using the current value of only the stock and bond portion of the member's portfolio and the summary statistics that you generated from the Monte Carlo simulation, answer the following question in your Jupyter notebook:\n",
    "\n",
    "-  What are the lower and upper bounds for the expected value of the portfolio with a 95% confidence interval?\n"
   ]
  },
  {
   "cell_type": "code",
   "execution_count": 85,
   "metadata": {},
   "outputs": [
    {
     "name": "stdout",
     "output_type": "stream",
     "text": [
      "The current value of your stock portfolio $40720.90\n"
     ]
    }
   ],
   "source": [
    "# The current value of your stock portfolio\n",
    "\n",
    "print(f\"The current value of your stock portfolio ${spy_value:.2f}\")\n"
   ]
  },
  {
   "cell_type": "code",
   "execution_count": 86,
   "metadata": {},
   "outputs": [
    {
     "name": "stdout",
     "output_type": "stream",
     "text": [
      "The current value of your bond portfolios $23464.00\n"
     ]
    }
   ],
   "source": [
    "# The current value of your bond portfolio\n",
    "\n",
    "print(f\"The current value of your bond portfolios ${agg_value:.2f}\")\n"
   ]
  },
  {
   "cell_type": "code",
   "execution_count": 87,
   "metadata": {},
   "outputs": [
    {
     "name": "stdout",
     "output_type": "stream",
     "text": [
      "There is a 95% chance that an initial investment of $82117.10 in the portfolio over the next year will end within in the range of $227,108.75 and $2,328,734.09.\n"
     ]
    }
   ],
   "source": [
    "# Use the lower and upper `95%` confidence intervals to calculate the range of the possible outcomes for the current stock/bond portfolio\n",
    "\n",
    "ci_lower_thirty_cumulative_return = work_stats[8]*total_portfolio\n",
    "\n",
    "ci_upper_thirty_cumulative_return = work_stats[9]*total_portfolio\n",
    "\n",
    "# Print the result of your calculations\n",
    "# YOUR CODE HERE\n",
    "# Print results\n",
    "\n",
    "print(f\"There is a 95% chance that an initial investment of ${total_portfolio:.2f} in the portfolio\"\n",
    "      f\" over the next year will end within in the range of\"\n",
    "      f\" ${ci_lower_thirty_cumulative_return:,.2f} and ${ci_upper_thirty_cumulative_return:,.2f}.\")\n"
   ]
  },
  {
   "cell_type": "markdown",
   "metadata": {},
   "source": [
    "### Forecast Cumulative Returns in 10 Years\n",
    "\n",
    "The CTO of the credit union is impressed with your work on these planning tools but wonders if 30 years is a long time to wait until retirement. So, your next task is to adjust the retirement portfolio and run a new Monte Carlo simulation to find out if the changes will allow members to retire earlier.\n",
    "\n",
    "For this new Monte Carlo simulation, do the following: \n",
    "\n",
    "- Forecast the cumulative returns for 10 years from now. Because of the shortened investment horizon (30 years to 10 years), the portfolio needs to invest more heavily in the riskier asset&mdash;that is, stock&mdash;to help accumulate wealth for retirement. \n",
    "\n",
    "- Adjust the weights of the retirement portfolio so that the composition for the Monte Carlo simulation consists of 20% bonds and 80% stocks. \n",
    "\n",
    "- Run the simulation over 500 samples, and use the same data that the API call to Alpaca generated.\n",
    "\n",
    "- Based on the new Monte Carlo simulation, answer the following questions in your Jupyter notebook:\n",
    "\n",
    "    - Using the current value of only the stock and bond portion of the member's portfolio and the summary statistics that you generated from the new Monte Carlo simulation, what are the lower and upper bounds for the expected value of the portfolio (with the new weights) with a 95% confidence interval?\n",
    "\n",
    "    - Will weighting the portfolio more heavily toward stocks allow the credit union members to retire after only 10 years?\n"
   ]
  },
  {
   "cell_type": "code",
   "execution_count": 88,
   "metadata": {},
   "outputs": [
    {
     "data": {
      "text/html": [
       "<div>\n",
       "<style scoped>\n",
       "    .dataframe tbody tr th:only-of-type {\n",
       "        vertical-align: middle;\n",
       "    }\n",
       "\n",
       "    .dataframe tbody tr th {\n",
       "        vertical-align: top;\n",
       "    }\n",
       "\n",
       "    .dataframe thead tr th {\n",
       "        text-align: left;\n",
       "    }\n",
       "\n",
       "    .dataframe thead tr:last-of-type th {\n",
       "        text-align: right;\n",
       "    }\n",
       "</style>\n",
       "<table border=\"1\" class=\"dataframe\">\n",
       "  <thead>\n",
       "    <tr>\n",
       "      <th></th>\n",
       "      <th colspan=\"6\" halign=\"left\">AGG</th>\n",
       "      <th colspan=\"6\" halign=\"left\">SPY</th>\n",
       "    </tr>\n",
       "    <tr>\n",
       "      <th></th>\n",
       "      <th>open</th>\n",
       "      <th>high</th>\n",
       "      <th>low</th>\n",
       "      <th>close</th>\n",
       "      <th>volume</th>\n",
       "      <th>daily_return</th>\n",
       "      <th>open</th>\n",
       "      <th>high</th>\n",
       "      <th>low</th>\n",
       "      <th>close</th>\n",
       "      <th>volume</th>\n",
       "      <th>daily_return</th>\n",
       "    </tr>\n",
       "    <tr>\n",
       "      <th>time</th>\n",
       "      <th></th>\n",
       "      <th></th>\n",
       "      <th></th>\n",
       "      <th></th>\n",
       "      <th></th>\n",
       "      <th></th>\n",
       "      <th></th>\n",
       "      <th></th>\n",
       "      <th></th>\n",
       "      <th></th>\n",
       "      <th></th>\n",
       "      <th></th>\n",
       "    </tr>\n",
       "  </thead>\n",
       "  <tbody>\n",
       "    <tr>\n",
       "      <th>2011-02-07 00:00:00-05:00</th>\n",
       "      <td>104.17</td>\n",
       "      <td>104.331</td>\n",
       "      <td>104.1100</td>\n",
       "      <td>104.29</td>\n",
       "      <td>569006.0</td>\n",
       "      <td>NaN</td>\n",
       "      <td>131.44</td>\n",
       "      <td>132.40</td>\n",
       "      <td>131.43</td>\n",
       "      <td>131.98</td>\n",
       "      <td>90480160</td>\n",
       "      <td>NaN</td>\n",
       "    </tr>\n",
       "    <tr>\n",
       "      <th>2011-02-08 00:00:00-05:00</th>\n",
       "      <td>104.31</td>\n",
       "      <td>104.320</td>\n",
       "      <td>103.9100</td>\n",
       "      <td>103.99</td>\n",
       "      <td>692756.0</td>\n",
       "      <td>-0.002877</td>\n",
       "      <td>132.10</td>\n",
       "      <td>132.64</td>\n",
       "      <td>131.73</td>\n",
       "      <td>132.59</td>\n",
       "      <td>85774423</td>\n",
       "      <td>0.004622</td>\n",
       "    </tr>\n",
       "    <tr>\n",
       "      <th>2011-02-09 00:00:00-05:00</th>\n",
       "      <td>104.04</td>\n",
       "      <td>104.320</td>\n",
       "      <td>103.9301</td>\n",
       "      <td>104.19</td>\n",
       "      <td>484644.0</td>\n",
       "      <td>0.001923</td>\n",
       "      <td>132.21</td>\n",
       "      <td>132.63</td>\n",
       "      <td>131.61</td>\n",
       "      <td>132.27</td>\n",
       "      <td>121763230</td>\n",
       "      <td>-0.002413</td>\n",
       "    </tr>\n",
       "    <tr>\n",
       "      <th>2011-02-10 00:00:00-05:00</th>\n",
       "      <td>104.11</td>\n",
       "      <td>104.170</td>\n",
       "      <td>103.8500</td>\n",
       "      <td>103.89</td>\n",
       "      <td>485735.0</td>\n",
       "      <td>-0.002879</td>\n",
       "      <td>131.60</td>\n",
       "      <td>132.47</td>\n",
       "      <td>131.30</td>\n",
       "      <td>132.33</td>\n",
       "      <td>140547328</td>\n",
       "      <td>0.000454</td>\n",
       "    </tr>\n",
       "    <tr>\n",
       "      <th>2011-02-11 00:00:00-05:00</th>\n",
       "      <td>104.31</td>\n",
       "      <td>104.360</td>\n",
       "      <td>104.0700</td>\n",
       "      <td>104.30</td>\n",
       "      <td>746362.0</td>\n",
       "      <td>0.003946</td>\n",
       "      <td>131.80</td>\n",
       "      <td>133.28</td>\n",
       "      <td>131.77</td>\n",
       "      <td>133.11</td>\n",
       "      <td>113377378</td>\n",
       "      <td>0.005894</td>\n",
       "    </tr>\n",
       "  </tbody>\n",
       "</table>\n",
       "</div>"
      ],
      "text/plain": [
       "                              AGG                                       \\\n",
       "                             open     high       low   close    volume   \n",
       "time                                                                     \n",
       "2011-02-07 00:00:00-05:00  104.17  104.331  104.1100  104.29  569006.0   \n",
       "2011-02-08 00:00:00-05:00  104.31  104.320  103.9100  103.99  692756.0   \n",
       "2011-02-09 00:00:00-05:00  104.04  104.320  103.9301  104.19  484644.0   \n",
       "2011-02-10 00:00:00-05:00  104.11  104.170  103.8500  103.89  485735.0   \n",
       "2011-02-11 00:00:00-05:00  104.31  104.360  104.0700  104.30  746362.0   \n",
       "\n",
       "                                           SPY                          \\\n",
       "                          daily_return    open    high     low   close   \n",
       "time                                                                     \n",
       "2011-02-07 00:00:00-05:00          NaN  131.44  132.40  131.43  131.98   \n",
       "2011-02-08 00:00:00-05:00    -0.002877  132.10  132.64  131.73  132.59   \n",
       "2011-02-09 00:00:00-05:00     0.001923  132.21  132.63  131.61  132.27   \n",
       "2011-02-10 00:00:00-05:00    -0.002879  131.60  132.47  131.30  132.33   \n",
       "2011-02-11 00:00:00-05:00     0.003946  131.80  133.28  131.77  133.11   \n",
       "\n",
       "                                                   \n",
       "                              volume daily_return  \n",
       "time                                               \n",
       "2011-02-07 00:00:00-05:00   90480160          NaN  \n",
       "2011-02-08 00:00:00-05:00   85774423     0.004622  \n",
       "2011-02-09 00:00:00-05:00  121763230    -0.002413  \n",
       "2011-02-10 00:00:00-05:00  140547328     0.000454  \n",
       "2011-02-11 00:00:00-05:00  113377378     0.005894  "
      ]
     },
     "execution_count": 88,
     "metadata": {},
     "output_type": "execute_result"
    }
   ],
   "source": [
    "# Configure a Monte Carlo simulation to forecast 10 years cumulative returns\n",
    "# The weights should be split 20% to AGG and 80% to SPY.\n",
    "# Run 500 samples.\n",
    "# YOUR CODE HERE\n",
    "\n",
    "ten_year_simulation = MCSimulation(\n",
    "    portfolio_data=tenyear_prices_df,\n",
    "    weights=[0.20, 0.80],\n",
    "    num_simulation=500,\n",
    "    num_trading_days=252 * 10,\n",
    ")\n",
    "\n",
    "\n",
    "# Review the simulation input data\n",
    "# YOUR CODE HERE\n",
    "\n",
    "ten_year_simulation.portfolio_data.head()\n"
   ]
  },
  {
   "cell_type": "code",
   "execution_count": 89,
   "metadata": {},
   "outputs": [
    {
     "data": {
      "text/html": [
       "<div>\n",
       "<style scoped>\n",
       "    .dataframe tbody tr th:only-of-type {\n",
       "        vertical-align: middle;\n",
       "    }\n",
       "\n",
       "    .dataframe tbody tr th {\n",
       "        vertical-align: top;\n",
       "    }\n",
       "\n",
       "    .dataframe thead tr th {\n",
       "        text-align: left;\n",
       "    }\n",
       "\n",
       "    .dataframe thead tr:last-of-type th {\n",
       "        text-align: right;\n",
       "    }\n",
       "</style>\n",
       "<table border=\"1\" class=\"dataframe\">\n",
       "  <thead>\n",
       "    <tr>\n",
       "      <th></th>\n",
       "      <th colspan=\"6\" halign=\"left\">AGG</th>\n",
       "      <th colspan=\"6\" halign=\"left\">SPY</th>\n",
       "    </tr>\n",
       "    <tr>\n",
       "      <th></th>\n",
       "      <th>open</th>\n",
       "      <th>high</th>\n",
       "      <th>low</th>\n",
       "      <th>close</th>\n",
       "      <th>volume</th>\n",
       "      <th>daily_return</th>\n",
       "      <th>open</th>\n",
       "      <th>high</th>\n",
       "      <th>low</th>\n",
       "      <th>close</th>\n",
       "      <th>volume</th>\n",
       "      <th>daily_return</th>\n",
       "    </tr>\n",
       "    <tr>\n",
       "      <th>time</th>\n",
       "      <th></th>\n",
       "      <th></th>\n",
       "      <th></th>\n",
       "      <th></th>\n",
       "      <th></th>\n",
       "      <th></th>\n",
       "      <th></th>\n",
       "      <th></th>\n",
       "      <th></th>\n",
       "      <th></th>\n",
       "      <th></th>\n",
       "      <th></th>\n",
       "    </tr>\n",
       "  </thead>\n",
       "  <tbody>\n",
       "    <tr>\n",
       "      <th>2021-01-28 00:00:00-05:00</th>\n",
       "      <td>117.4800</td>\n",
       "      <td>117.49</td>\n",
       "      <td>117.2900</td>\n",
       "      <td>117.43</td>\n",
       "      <td>4440895.0</td>\n",
       "      <td>-0.000766</td>\n",
       "      <td>376.360</td>\n",
       "      <td>381.930</td>\n",
       "      <td>375.8900</td>\n",
       "      <td>377.6000</td>\n",
       "      <td>75229306</td>\n",
       "      <td>0.008439</td>\n",
       "    </tr>\n",
       "    <tr>\n",
       "      <th>2021-01-29 00:00:00-05:00</th>\n",
       "      <td>117.1563</td>\n",
       "      <td>117.40</td>\n",
       "      <td>116.5625</td>\n",
       "      <td>117.32</td>\n",
       "      <td>7119889.0</td>\n",
       "      <td>-0.000937</td>\n",
       "      <td>375.630</td>\n",
       "      <td>376.670</td>\n",
       "      <td>368.2700</td>\n",
       "      <td>370.1900</td>\n",
       "      <td>106397082</td>\n",
       "      <td>-0.019624</td>\n",
       "    </tr>\n",
       "    <tr>\n",
       "      <th>2021-02-01 00:00:00-05:00</th>\n",
       "      <td>117.2000</td>\n",
       "      <td>117.26</td>\n",
       "      <td>117.0915</td>\n",
       "      <td>117.21</td>\n",
       "      <td>5469814.0</td>\n",
       "      <td>-0.000938</td>\n",
       "      <td>373.720</td>\n",
       "      <td>377.340</td>\n",
       "      <td>370.3760</td>\n",
       "      <td>376.1800</td>\n",
       "      <td>64056510</td>\n",
       "      <td>0.016181</td>\n",
       "    </tr>\n",
       "    <tr>\n",
       "      <th>2021-02-02 00:00:00-05:00</th>\n",
       "      <td>116.9900</td>\n",
       "      <td>117.09</td>\n",
       "      <td>116.9700</td>\n",
       "      <td>117.05</td>\n",
       "      <td>4694446.0</td>\n",
       "      <td>-0.001365</td>\n",
       "      <td>379.650</td>\n",
       "      <td>383.220</td>\n",
       "      <td>376.3181</td>\n",
       "      <td>381.5400</td>\n",
       "      <td>53979346</td>\n",
       "      <td>0.014248</td>\n",
       "    </tr>\n",
       "    <tr>\n",
       "      <th>2021-02-03 00:00:00-05:00</th>\n",
       "      <td>116.9700</td>\n",
       "      <td>116.99</td>\n",
       "      <td>116.8700</td>\n",
       "      <td>116.93</td>\n",
       "      <td>3482726.0</td>\n",
       "      <td>-0.001025</td>\n",
       "      <td>382.435</td>\n",
       "      <td>383.365</td>\n",
       "      <td>380.4800</td>\n",
       "      <td>383.3098</td>\n",
       "      <td>26779218</td>\n",
       "      <td>0.004639</td>\n",
       "    </tr>\n",
       "  </tbody>\n",
       "</table>\n",
       "</div>"
      ],
      "text/plain": [
       "                                AGG                                       \\\n",
       "                               open    high       low   close     volume   \n",
       "time                                                                       \n",
       "2021-01-28 00:00:00-05:00  117.4800  117.49  117.2900  117.43  4440895.0   \n",
       "2021-01-29 00:00:00-05:00  117.1563  117.40  116.5625  117.32  7119889.0   \n",
       "2021-02-01 00:00:00-05:00  117.2000  117.26  117.0915  117.21  5469814.0   \n",
       "2021-02-02 00:00:00-05:00  116.9900  117.09  116.9700  117.05  4694446.0   \n",
       "2021-02-03 00:00:00-05:00  116.9700  116.99  116.8700  116.93  3482726.0   \n",
       "\n",
       "                                            SPY                               \\\n",
       "                          daily_return     open     high       low     close   \n",
       "time                                                                           \n",
       "2021-01-28 00:00:00-05:00    -0.000766  376.360  381.930  375.8900  377.6000   \n",
       "2021-01-29 00:00:00-05:00    -0.000937  375.630  376.670  368.2700  370.1900   \n",
       "2021-02-01 00:00:00-05:00    -0.000938  373.720  377.340  370.3760  376.1800   \n",
       "2021-02-02 00:00:00-05:00    -0.001365  379.650  383.220  376.3181  381.5400   \n",
       "2021-02-03 00:00:00-05:00    -0.001025  382.435  383.365  380.4800  383.3098   \n",
       "\n",
       "                                                   \n",
       "                              volume daily_return  \n",
       "time                                               \n",
       "2021-01-28 00:00:00-05:00   75229306     0.008439  \n",
       "2021-01-29 00:00:00-05:00  106397082    -0.019624  \n",
       "2021-02-01 00:00:00-05:00   64056510     0.016181  \n",
       "2021-02-02 00:00:00-05:00   53979346     0.014248  \n",
       "2021-02-03 00:00:00-05:00   26779218     0.004639  "
      ]
     },
     "execution_count": 89,
     "metadata": {},
     "output_type": "execute_result"
    }
   ],
   "source": [
    "# Review the simulation input data\n",
    "# YOUR CODE HERE\n",
    "\n",
    "ten_year_simulation.portfolio_data.tail()\n"
   ]
  },
  {
   "cell_type": "code",
   "execution_count": 90,
   "metadata": {},
   "outputs": [
    {
     "name": "stdout",
     "output_type": "stream",
     "text": [
      "Running Monte Carlo simulation number 0.\n",
      "Running Monte Carlo simulation number 10.\n",
      "Running Monte Carlo simulation number 20.\n",
      "Running Monte Carlo simulation number 30.\n",
      "Running Monte Carlo simulation number 40.\n",
      "Running Monte Carlo simulation number 50.\n",
      "Running Monte Carlo simulation number 60.\n",
      "Running Monte Carlo simulation number 70.\n",
      "Running Monte Carlo simulation number 80.\n",
      "Running Monte Carlo simulation number 90.\n",
      "Running Monte Carlo simulation number 100.\n",
      "Running Monte Carlo simulation number 110.\n",
      "Running Monte Carlo simulation number 120.\n",
      "Running Monte Carlo simulation number 130.\n",
      "Running Monte Carlo simulation number 140.\n",
      "Running Monte Carlo simulation number 150.\n",
      "Running Monte Carlo simulation number 160.\n",
      "Running Monte Carlo simulation number 170.\n",
      "Running Monte Carlo simulation number 180.\n",
      "Running Monte Carlo simulation number 190.\n",
      "Running Monte Carlo simulation number 200.\n",
      "Running Monte Carlo simulation number 210.\n",
      "Running Monte Carlo simulation number 220.\n",
      "Running Monte Carlo simulation number 230.\n",
      "Running Monte Carlo simulation number 240.\n",
      "Running Monte Carlo simulation number 250.\n",
      "Running Monte Carlo simulation number 260.\n",
      "Running Monte Carlo simulation number 270.\n",
      "Running Monte Carlo simulation number 280.\n",
      "Running Monte Carlo simulation number 290.\n",
      "Running Monte Carlo simulation number 300.\n",
      "Running Monte Carlo simulation number 310.\n",
      "Running Monte Carlo simulation number 320.\n",
      "Running Monte Carlo simulation number 330.\n",
      "Running Monte Carlo simulation number 340.\n",
      "Running Monte Carlo simulation number 350.\n",
      "Running Monte Carlo simulation number 360.\n",
      "Running Monte Carlo simulation number 370.\n",
      "Running Monte Carlo simulation number 380.\n",
      "Running Monte Carlo simulation number 390.\n",
      "Running Monte Carlo simulation number 400.\n",
      "Running Monte Carlo simulation number 410.\n",
      "Running Monte Carlo simulation number 420.\n",
      "Running Monte Carlo simulation number 430.\n",
      "Running Monte Carlo simulation number 440.\n",
      "Running Monte Carlo simulation number 450.\n",
      "Running Monte Carlo simulation number 460.\n",
      "Running Monte Carlo simulation number 470.\n",
      "Running Monte Carlo simulation number 480.\n",
      "Running Monte Carlo simulation number 490.\n"
     ]
    },
    {
     "data": {
      "text/html": [
       "<div>\n",
       "<style scoped>\n",
       "    .dataframe tbody tr th:only-of-type {\n",
       "        vertical-align: middle;\n",
       "    }\n",
       "\n",
       "    .dataframe tbody tr th {\n",
       "        vertical-align: top;\n",
       "    }\n",
       "\n",
       "    .dataframe thead th {\n",
       "        text-align: right;\n",
       "    }\n",
       "</style>\n",
       "<table border=\"1\" class=\"dataframe\">\n",
       "  <thead>\n",
       "    <tr style=\"text-align: right;\">\n",
       "      <th></th>\n",
       "      <th>0</th>\n",
       "      <th>1</th>\n",
       "      <th>2</th>\n",
       "      <th>3</th>\n",
       "      <th>4</th>\n",
       "      <th>5</th>\n",
       "      <th>6</th>\n",
       "      <th>7</th>\n",
       "      <th>8</th>\n",
       "      <th>9</th>\n",
       "      <th>...</th>\n",
       "      <th>490</th>\n",
       "      <th>491</th>\n",
       "      <th>492</th>\n",
       "      <th>493</th>\n",
       "      <th>494</th>\n",
       "      <th>495</th>\n",
       "      <th>496</th>\n",
       "      <th>497</th>\n",
       "      <th>498</th>\n",
       "      <th>499</th>\n",
       "    </tr>\n",
       "  </thead>\n",
       "  <tbody>\n",
       "    <tr>\n",
       "      <th>0</th>\n",
       "      <td>1.000000</td>\n",
       "      <td>1.000000</td>\n",
       "      <td>1.000000</td>\n",
       "      <td>1.000000</td>\n",
       "      <td>1.000000</td>\n",
       "      <td>1.000000</td>\n",
       "      <td>1.000000</td>\n",
       "      <td>1.000000</td>\n",
       "      <td>1.000000</td>\n",
       "      <td>1.000000</td>\n",
       "      <td>...</td>\n",
       "      <td>1.000000</td>\n",
       "      <td>1.000000</td>\n",
       "      <td>1.000000</td>\n",
       "      <td>1.000000</td>\n",
       "      <td>1.000000</td>\n",
       "      <td>1.000000</td>\n",
       "      <td>1.000000</td>\n",
       "      <td>1.000000</td>\n",
       "      <td>1.000000</td>\n",
       "      <td>1.000000</td>\n",
       "    </tr>\n",
       "    <tr>\n",
       "      <th>1</th>\n",
       "      <td>0.994955</td>\n",
       "      <td>0.998781</td>\n",
       "      <td>1.002038</td>\n",
       "      <td>0.987714</td>\n",
       "      <td>0.993301</td>\n",
       "      <td>1.003939</td>\n",
       "      <td>1.013900</td>\n",
       "      <td>0.990026</td>\n",
       "      <td>1.007748</td>\n",
       "      <td>1.020357</td>\n",
       "      <td>...</td>\n",
       "      <td>0.991538</td>\n",
       "      <td>0.993565</td>\n",
       "      <td>1.006284</td>\n",
       "      <td>1.008469</td>\n",
       "      <td>0.989322</td>\n",
       "      <td>1.002595</td>\n",
       "      <td>0.997800</td>\n",
       "      <td>0.983197</td>\n",
       "      <td>1.000936</td>\n",
       "      <td>1.004397</td>\n",
       "    </tr>\n",
       "    <tr>\n",
       "      <th>2</th>\n",
       "      <td>1.004571</td>\n",
       "      <td>1.003705</td>\n",
       "      <td>0.994982</td>\n",
       "      <td>0.996661</td>\n",
       "      <td>0.985406</td>\n",
       "      <td>1.023841</td>\n",
       "      <td>1.013153</td>\n",
       "      <td>0.990573</td>\n",
       "      <td>0.996940</td>\n",
       "      <td>1.027749</td>\n",
       "      <td>...</td>\n",
       "      <td>0.979246</td>\n",
       "      <td>0.969612</td>\n",
       "      <td>0.997977</td>\n",
       "      <td>1.006500</td>\n",
       "      <td>0.984833</td>\n",
       "      <td>1.008508</td>\n",
       "      <td>0.999348</td>\n",
       "      <td>0.980611</td>\n",
       "      <td>1.009450</td>\n",
       "      <td>1.007732</td>\n",
       "    </tr>\n",
       "    <tr>\n",
       "      <th>3</th>\n",
       "      <td>1.016103</td>\n",
       "      <td>1.003344</td>\n",
       "      <td>1.002019</td>\n",
       "      <td>0.990386</td>\n",
       "      <td>0.986257</td>\n",
       "      <td>1.031040</td>\n",
       "      <td>1.018054</td>\n",
       "      <td>0.977711</td>\n",
       "      <td>0.993184</td>\n",
       "      <td>1.035011</td>\n",
       "      <td>...</td>\n",
       "      <td>0.977214</td>\n",
       "      <td>0.978807</td>\n",
       "      <td>0.985591</td>\n",
       "      <td>1.020735</td>\n",
       "      <td>0.973704</td>\n",
       "      <td>1.007752</td>\n",
       "      <td>1.015972</td>\n",
       "      <td>0.982240</td>\n",
       "      <td>1.011046</td>\n",
       "      <td>1.013926</td>\n",
       "    </tr>\n",
       "    <tr>\n",
       "      <th>4</th>\n",
       "      <td>1.020164</td>\n",
       "      <td>1.001060</td>\n",
       "      <td>1.001540</td>\n",
       "      <td>0.994339</td>\n",
       "      <td>0.971639</td>\n",
       "      <td>1.021392</td>\n",
       "      <td>1.015571</td>\n",
       "      <td>0.988919</td>\n",
       "      <td>0.998857</td>\n",
       "      <td>1.035338</td>\n",
       "      <td>...</td>\n",
       "      <td>0.987865</td>\n",
       "      <td>0.973753</td>\n",
       "      <td>1.001842</td>\n",
       "      <td>1.019845</td>\n",
       "      <td>0.970714</td>\n",
       "      <td>1.025812</td>\n",
       "      <td>1.034261</td>\n",
       "      <td>0.973754</td>\n",
       "      <td>0.989889</td>\n",
       "      <td>1.005744</td>\n",
       "    </tr>\n",
       "    <tr>\n",
       "      <th>...</th>\n",
       "      <td>...</td>\n",
       "      <td>...</td>\n",
       "      <td>...</td>\n",
       "      <td>...</td>\n",
       "      <td>...</td>\n",
       "      <td>...</td>\n",
       "      <td>...</td>\n",
       "      <td>...</td>\n",
       "      <td>...</td>\n",
       "      <td>...</td>\n",
       "      <td>...</td>\n",
       "      <td>...</td>\n",
       "      <td>...</td>\n",
       "      <td>...</td>\n",
       "      <td>...</td>\n",
       "      <td>...</td>\n",
       "      <td>...</td>\n",
       "      <td>...</td>\n",
       "      <td>...</td>\n",
       "      <td>...</td>\n",
       "      <td>...</td>\n",
       "    </tr>\n",
       "    <tr>\n",
       "      <th>2516</th>\n",
       "      <td>2.684448</td>\n",
       "      <td>5.137567</td>\n",
       "      <td>2.191897</td>\n",
       "      <td>1.320530</td>\n",
       "      <td>1.806261</td>\n",
       "      <td>4.304003</td>\n",
       "      <td>4.466157</td>\n",
       "      <td>1.753601</td>\n",
       "      <td>2.070930</td>\n",
       "      <td>1.899915</td>\n",
       "      <td>...</td>\n",
       "      <td>3.146700</td>\n",
       "      <td>1.089526</td>\n",
       "      <td>3.333624</td>\n",
       "      <td>3.222455</td>\n",
       "      <td>3.297463</td>\n",
       "      <td>2.686921</td>\n",
       "      <td>2.043834</td>\n",
       "      <td>1.155778</td>\n",
       "      <td>1.384317</td>\n",
       "      <td>2.107477</td>\n",
       "    </tr>\n",
       "    <tr>\n",
       "      <th>2517</th>\n",
       "      <td>2.676429</td>\n",
       "      <td>5.053595</td>\n",
       "      <td>2.184064</td>\n",
       "      <td>1.334101</td>\n",
       "      <td>1.792028</td>\n",
       "      <td>4.273273</td>\n",
       "      <td>4.481649</td>\n",
       "      <td>1.747565</td>\n",
       "      <td>2.088103</td>\n",
       "      <td>1.912455</td>\n",
       "      <td>...</td>\n",
       "      <td>3.146371</td>\n",
       "      <td>1.107217</td>\n",
       "      <td>3.337853</td>\n",
       "      <td>3.240388</td>\n",
       "      <td>3.308198</td>\n",
       "      <td>2.707930</td>\n",
       "      <td>2.031620</td>\n",
       "      <td>1.154416</td>\n",
       "      <td>1.387893</td>\n",
       "      <td>2.130216</td>\n",
       "    </tr>\n",
       "    <tr>\n",
       "      <th>2518</th>\n",
       "      <td>2.667900</td>\n",
       "      <td>5.097011</td>\n",
       "      <td>2.161756</td>\n",
       "      <td>1.343454</td>\n",
       "      <td>1.804142</td>\n",
       "      <td>4.262003</td>\n",
       "      <td>4.500415</td>\n",
       "      <td>1.741364</td>\n",
       "      <td>2.104341</td>\n",
       "      <td>1.891167</td>\n",
       "      <td>...</td>\n",
       "      <td>3.131284</td>\n",
       "      <td>1.093217</td>\n",
       "      <td>3.322291</td>\n",
       "      <td>3.247111</td>\n",
       "      <td>3.281075</td>\n",
       "      <td>2.713354</td>\n",
       "      <td>2.044208</td>\n",
       "      <td>1.171289</td>\n",
       "      <td>1.387535</td>\n",
       "      <td>2.077887</td>\n",
       "    </tr>\n",
       "    <tr>\n",
       "      <th>2519</th>\n",
       "      <td>2.665242</td>\n",
       "      <td>5.129162</td>\n",
       "      <td>2.134483</td>\n",
       "      <td>1.353915</td>\n",
       "      <td>1.765599</td>\n",
       "      <td>4.275206</td>\n",
       "      <td>4.504875</td>\n",
       "      <td>1.746630</td>\n",
       "      <td>2.115645</td>\n",
       "      <td>1.912987</td>\n",
       "      <td>...</td>\n",
       "      <td>3.125478</td>\n",
       "      <td>1.097760</td>\n",
       "      <td>3.328575</td>\n",
       "      <td>3.299707</td>\n",
       "      <td>3.304481</td>\n",
       "      <td>2.735353</td>\n",
       "      <td>2.063161</td>\n",
       "      <td>1.176179</td>\n",
       "      <td>1.351795</td>\n",
       "      <td>2.083346</td>\n",
       "    </tr>\n",
       "    <tr>\n",
       "      <th>2520</th>\n",
       "      <td>2.673541</td>\n",
       "      <td>5.165166</td>\n",
       "      <td>2.128087</td>\n",
       "      <td>1.340657</td>\n",
       "      <td>1.761165</td>\n",
       "      <td>4.321733</td>\n",
       "      <td>4.478465</td>\n",
       "      <td>1.742830</td>\n",
       "      <td>2.152889</td>\n",
       "      <td>1.907961</td>\n",
       "      <td>...</td>\n",
       "      <td>3.155346</td>\n",
       "      <td>1.088322</td>\n",
       "      <td>3.349094</td>\n",
       "      <td>3.272682</td>\n",
       "      <td>3.320212</td>\n",
       "      <td>2.744865</td>\n",
       "      <td>2.097883</td>\n",
       "      <td>1.174807</td>\n",
       "      <td>1.337999</td>\n",
       "      <td>2.079635</td>\n",
       "    </tr>\n",
       "  </tbody>\n",
       "</table>\n",
       "<p>2521 rows × 500 columns</p>\n",
       "</div>"
      ],
      "text/plain": [
       "           0         1         2         3         4         5         6    \\\n",
       "0     1.000000  1.000000  1.000000  1.000000  1.000000  1.000000  1.000000   \n",
       "1     0.994955  0.998781  1.002038  0.987714  0.993301  1.003939  1.013900   \n",
       "2     1.004571  1.003705  0.994982  0.996661  0.985406  1.023841  1.013153   \n",
       "3     1.016103  1.003344  1.002019  0.990386  0.986257  1.031040  1.018054   \n",
       "4     1.020164  1.001060  1.001540  0.994339  0.971639  1.021392  1.015571   \n",
       "...        ...       ...       ...       ...       ...       ...       ...   \n",
       "2516  2.684448  5.137567  2.191897  1.320530  1.806261  4.304003  4.466157   \n",
       "2517  2.676429  5.053595  2.184064  1.334101  1.792028  4.273273  4.481649   \n",
       "2518  2.667900  5.097011  2.161756  1.343454  1.804142  4.262003  4.500415   \n",
       "2519  2.665242  5.129162  2.134483  1.353915  1.765599  4.275206  4.504875   \n",
       "2520  2.673541  5.165166  2.128087  1.340657  1.761165  4.321733  4.478465   \n",
       "\n",
       "           7         8         9    ...       490       491       492  \\\n",
       "0     1.000000  1.000000  1.000000  ...  1.000000  1.000000  1.000000   \n",
       "1     0.990026  1.007748  1.020357  ...  0.991538  0.993565  1.006284   \n",
       "2     0.990573  0.996940  1.027749  ...  0.979246  0.969612  0.997977   \n",
       "3     0.977711  0.993184  1.035011  ...  0.977214  0.978807  0.985591   \n",
       "4     0.988919  0.998857  1.035338  ...  0.987865  0.973753  1.001842   \n",
       "...        ...       ...       ...  ...       ...       ...       ...   \n",
       "2516  1.753601  2.070930  1.899915  ...  3.146700  1.089526  3.333624   \n",
       "2517  1.747565  2.088103  1.912455  ...  3.146371  1.107217  3.337853   \n",
       "2518  1.741364  2.104341  1.891167  ...  3.131284  1.093217  3.322291   \n",
       "2519  1.746630  2.115645  1.912987  ...  3.125478  1.097760  3.328575   \n",
       "2520  1.742830  2.152889  1.907961  ...  3.155346  1.088322  3.349094   \n",
       "\n",
       "           493       494       495       496       497       498       499  \n",
       "0     1.000000  1.000000  1.000000  1.000000  1.000000  1.000000  1.000000  \n",
       "1     1.008469  0.989322  1.002595  0.997800  0.983197  1.000936  1.004397  \n",
       "2     1.006500  0.984833  1.008508  0.999348  0.980611  1.009450  1.007732  \n",
       "3     1.020735  0.973704  1.007752  1.015972  0.982240  1.011046  1.013926  \n",
       "4     1.019845  0.970714  1.025812  1.034261  0.973754  0.989889  1.005744  \n",
       "...        ...       ...       ...       ...       ...       ...       ...  \n",
       "2516  3.222455  3.297463  2.686921  2.043834  1.155778  1.384317  2.107477  \n",
       "2517  3.240388  3.308198  2.707930  2.031620  1.154416  1.387893  2.130216  \n",
       "2518  3.247111  3.281075  2.713354  2.044208  1.171289  1.387535  2.077887  \n",
       "2519  3.299707  3.304481  2.735353  2.063161  1.176179  1.351795  2.083346  \n",
       "2520  3.272682  3.320212  2.744865  2.097883  1.174807  1.337999  2.079635  \n",
       "\n",
       "[2521 rows x 500 columns]"
      ]
     },
     "execution_count": 90,
     "metadata": {},
     "output_type": "execute_result"
    }
   ],
   "source": [
    "# Run the Monte Carlo simulation to forecast 10 years cumulative returns\n",
    "# YOUR CODE HERE\n",
    "\n",
    "ten_year_simulation.calc_cumulative_return()\n"
   ]
  },
  {
   "cell_type": "code",
   "execution_count": 91,
   "metadata": {},
   "outputs": [
    {
     "data": {
      "text/plain": [
       "<AxesSubplot:title={'center':'500 Simulations of Cumulative Portfolio Return Trajectories Over the Next 2520 Trading Days.'}>"
      ]
     },
     "execution_count": 91,
     "metadata": {},
     "output_type": "execute_result"
    },
    {
     "data": {
      "image/png": "[encoded data removed]",
      "text/plain": [
       "<Figure size 432x288 with 1 Axes>"
      ]
     },
     "metadata": {
      "needs_background": "light"
     },
     "output_type": "display_data"
    }
   ],
   "source": [
    "# Visualize the 10-year Monte Carlo simulation by creating an\n",
    "# overlay line plot\n",
    "# YOUR CODE HERE\n",
    "\n",
    "ten_year_simulation.plot_simulation()\n"
   ]
  },
  {
   "cell_type": "code",
   "execution_count": 92,
   "metadata": {},
   "outputs": [
    {
     "data": {
      "text/plain": [
       "<AxesSubplot:title={'center':'Distribution of Final Cumuluative Returns Across All 500 Simulations'}, ylabel='Frequency'>"
      ]
     },
     "execution_count": 92,
     "metadata": {},
     "output_type": "execute_result"
    },
    {
     "data": {
      "image/png": "[encoded data removed]",
      "text/plain": [
       "<Figure size 432x288 with 1 Axes>"
      ]
     },
     "metadata": {
      "needs_background": "light"
     },
     "output_type": "display_data"
    }
   ],
   "source": [
    "# Visualize the probability distribution of the 10-year Monte Carlo simulation \n",
    "# by plotting a histogram\n",
    "# YOUR CODE HERE\n",
    "\n",
    "ten_year_simulation.plot_distribution()\n"
   ]
  },
  {
   "cell_type": "code",
   "execution_count": 93,
   "metadata": {},
   "outputs": [
    {
     "name": "stdout",
     "output_type": "stream",
     "text": [
      "count           500.000000\n",
      "mean              2.691569\n",
      "std               1.233020\n",
      "min               0.783809\n",
      "25%               1.820331\n",
      "50%               2.441799\n",
      "75%               3.215512\n",
      "max               8.993531\n",
      "95% CI Lower      1.079332\n",
      "95% CI Upper      5.735333\n",
      "Name: 2520, dtype: float64\n"
     ]
    }
   ],
   "source": [
    "# Generate summary statistics from the 10-year Monte Carlo simulation results\n",
    "# Save the results as a variable\n",
    "# YOUR CODE HERE\n",
    "\n",
    "come_back = ten_year_simulation.summarize_cumulative_return()\n",
    "\n",
    "# Review the 10-year Monte Carlo summary statistics\n",
    "# YOUR CODE HERE\n",
    "print(come_back)\n"
   ]
  },
  {
   "cell_type": "markdown",
   "metadata": {},
   "source": [
    "### Answer the following questions:"
   ]
  },
  {
   "cell_type": "markdown",
   "metadata": {},
   "source": [
    "#### Question: Using the current value of only the stock and bond portion of the member's portfolio and the summary statistics that you generated from the new Monte Carlo simulation, what are the lower and upper bounds for the expected value of the portfolio (with the new weights) with a 95% confidence interval?"
   ]
  },
  {
   "cell_type": "code",
   "execution_count": 94,
   "metadata": {},
   "outputs": [
    {
     "name": "stdout",
     "output_type": "stream",
     "text": [
      "The current value of your bond portfolios $23464.00\n",
      "The current value of your stock portfolios $40720.90\n"
     ]
    }
   ],
   "source": [
    "# Print the current balance of the stock and bond portion of the members portfolio\n",
    "# YOUR CODE HERE\n",
    "\n",
    "print(f\"The current value of your bond portfolios ${agg_value:.2f}\")\n",
    "\n",
    "print(f\"The current value of your stock portfolios ${spy_value:.2f}\")\n"
   ]
  },
  {
   "cell_type": "code",
   "execution_count": 95,
   "metadata": {},
   "outputs": [
    {
     "name": "stdout",
     "output_type": "stream",
     "text": [
      "There is a 95% chance that an initial investment of $82117.10 in the portfolio over the next year will end within in the range of $88,631.60 and $470,968.87.\n"
     ]
    }
   ],
   "source": [
    "# Use the lower and upper `95%` confidence intervals to calculate the range of the possible outcomes for the current stock/bond portfolio\n",
    "ci_lower_ten_cumulative_return = come_back[8]*total_portfolio\n",
    "\n",
    "ci_upper_ten_cumulative_return = come_back[9]*total_portfolio\n",
    "\n",
    "# Print the result of your calculations\n",
    "# YOUR CODE HERE\n",
    "print(f\"There is a 95% chance that an initial investment of ${total_portfolio:.2f} in the portfolio\"\n",
    "      f\" over the next year will end within in the range of\"\n",
    "      f\" ${ci_lower_ten_cumulative_return:,.2f} and ${ci_upper_ten_cumulative_return:,.2f}.\")\n"
   ]
  },
  {
   "cell_type": "markdown",
   "metadata": {},
   "source": [
    "#### Question: Will weighting the portfolio more heavily to stocks allow the credit union members to retire after only 10 years?"
   ]
  },
  {
   "cell_type": "raw",
   "metadata": {},
   "source": [
    "**Answer** # YOUR ANSWER HERE\n",
    "\n",
    "It is a well-known fact in finance that the stock heavy portfolio is categorized as an aggressive style structure. It does bring in a chance of early retirement and elevates that probability quite a bit, but nothing is for sure and it remains just that probability. We advise incredibly careful and thought-out diversification as well as a possible adjustment to the 10-year time horizon. In conclusion our technical forecast a good chance for favorable returns if the current program continues.  If the approach is decided to be modified, We would love a chance to offer services which we are all elite and use state of the art technology here at FinTech Financial Services."
   ]
  },
  {
   "cell_type": "code",
   "execution_count": null,
   "metadata": {},
   "outputs": [],
   "source": []
  },
  {
   "cell_type": "code",
   "execution_count": null,
   "metadata": {},
   "outputs": [],
   "source": []
  }
 ],
 "metadata": {
  "kernelspec": {
   "display_name": "dev",
   "language": "python",
   "name": "dev"
  },
  "language_info": {
   "codemirror_mode": {
    "name": "ipython",
    "version": 3
   },
   "file_extension": ".py",
   "mimetype": "text/x-python",
   "name": "python",
   "nbconvert_exporter": "python",
   "pygments_lexer": "ipython3",
   "version": "3.7.9"
  }
 },
 "nbformat": 4,
 "nbformat_minor": 4
}
